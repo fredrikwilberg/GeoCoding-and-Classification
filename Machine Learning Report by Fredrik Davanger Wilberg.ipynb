{
 "cells": [
  {
   "cell_type": "markdown",
   "metadata": {},
   "source": [
    "# GeoCoding and Classification of an AirBnB Dataset Using Machine Learning\n",
    "# ------------------------------------------------------------------------------------------\n",
    "### Notebook by [Fredrik Davanger Wilberg]"
   ]
  },
  {
   "cell_type": "markdown",
   "metadata": {},
   "source": [
    "# Table of contents\n",
    "\n",
    "1. [Introduction](#Introduction)\n",
    "\n",
    "2. [Required libraries and datasets](#Required-Libraries-and-Datasets)\n",
    "\n",
    "3. [Presentation of the Dataset and The Problem](#Presentation-of-the-Dataset-and-the-Problem)\n",
    "\n",
    "4. [Step 1: Checking the Data | Multiclass Classification](#Step-1:-Checking-the-Data-|-Multiclass-Classification)\n",
    "\n",
    "5. [Step 2: Classifying the regions in Bristol](#Step-2:-Classifying-the-regions-in-Bristol)\n",
    "\n",
    "6. [Step 3: Kmeans | Unsupervised Machine Learning](#Step-3:-Kmeans-|-Unsupervised-Machine-Learning)\n",
    "\n",
    "7. [Step 4: Kneighbours | Supervised Machine Learning](#Step-4:-Kneighbours-|-Supervised-Machine-Learning)\n",
    "\n",
    "8. [Step 5: Modifying the Classification](#Step-5:-Modifying-the-Classification)\n",
    "\n",
    "9. [Step 1: Checking the data | Multiclass Binary Classification](#Step-1:-Checking-the-data-|-Multiclass-Binary-Classification)\n",
    "\n",
    "10. [Step 2: Classifying the Landlords](#Step-2:-Classifying-the-Landlords)\n",
    "\n",
    "11. [Step 3: TensorFlow](#Step-3:-TensorFlow)\n",
    "\n",
    "12. [Conclusion](#Conclusion)\n",
    "\n",
    "13. [References](#References)\n",
    "\n",
    "\n",
    "\n",
    "\n"
   ]
  },
  {
   "cell_type": "markdown",
   "metadata": {},
   "source": [
    "# Introduction\n",
    "\n",
    "[[ go back to the top ]](#Table-of-contents)\n",
    "\n",
    "AirBnB inc. is a global market place for hospitality service that has given people an accessible alternative to company residential accommondations. Since the establishment in 2008, AirBnB has been collecting data from their services in order to gain knowledge about how customers respond to lodging in a privately owned building.\n",
    "\n",
    "The given dataset contains findings from AirBnB reviews from Bristol, United Kingdom. \n",
    "\n",
    "**In this report, Machine Learning will be used to classify and predict behavior of people that uses AirBnBs services in Bristol.**\n",
    "\n"
   ]
  },
  {
   "cell_type": "markdown",
   "metadata": {},
   "source": [
    "# Required Libraries and Datasets\n",
    "\n",
    "[[ go back to the top ]](#Table-of-contents)\n",
    "\n",
    "\n",
    "This notebook is written in Python 3.6.5. using multiple libraries, as listed below:\n",
    "\n",
    "\n",
    "* **NumPy**: Multidimensional arrays\n",
    "* **pandas**: DataFrame structure\n",
    "* **scikit-learn**: Machine Learning package\n",
    "* **matplotlib**: Plotting library\n",
    "* **TesnsorFlow**: Library for fast computing by Google \n",
    "* **IPython**: Command Shell\n",
    "* **Warnings**: Python warning controller\n",
    "* **Iris Data set**: A dataset containing Fisher's Iris Dataset (used for quality control)\n",
    "* **Re**: Regular Expressions\n",
    "* **Time**: Stopwatch\n",
    "\n",
    "\n",
    "The main dataset will be stored in a variable called \"airbnb\". However, the variable will be added a digit at the end when big changes are made to it. "
   ]
  },
  {
   "cell_type": "markdown",
   "metadata": {},
   "source": [
    "# Presentation of the Dataset and the Problem \n",
    "\n",
    "[[ go back to the top ]](#Table-of-contents)\n",
    "\n",
    "\n",
    "The dataset \"Bristol AirBnB Data\", as illustrated below, consists of 2375 data points and got 28 different variables from customers visiting Bristol. Roughly, the finding represent tenant satisfaction and statistical attribute about the accomondations.    \n",
    "\n",
    "\n"
   ]
  },
  {
   "cell_type": "code",
   "execution_count": 22,
   "metadata": {},
   "outputs": [
    {
     "data": {
      "text/plain": [
       "(2375, 28)"
      ]
     },
     "execution_count": 22,
     "metadata": {},
     "output_type": "execute_result"
    }
   ],
   "source": [
    "import pandas as pd\n",
    "airbnb = pd.read_csv('BristolAirbnbListings.csv')\n",
    "airbnb.shape\n"
   ]
  },
  {
   "cell_type": "code",
   "execution_count": 9,
   "metadata": {
    "scrolled": true
   },
   "outputs": [
    {
     "data": {
      "text/html": [
       "<div>\n",
       "<style scoped>\n",
       "    .dataframe tbody tr th:only-of-type {\n",
       "        vertical-align: middle;\n",
       "    }\n",
       "\n",
       "    .dataframe tbody tr th {\n",
       "        vertical-align: top;\n",
       "    }\n",
       "\n",
       "    .dataframe thead th {\n",
       "        text-align: right;\n",
       "    }\n",
       "</style>\n",
       "<table border=\"1\" class=\"dataframe\">\n",
       "  <thead>\n",
       "    <tr style=\"text-align: right;\">\n",
       "      <th></th>\n",
       "      <th>id</th>\n",
       "      <th>name</th>\n",
       "      <th>host_id</th>\n",
       "      <th>host_name</th>\n",
       "      <th>neighbourhood</th>\n",
       "      <th>postcode</th>\n",
       "      <th>latitude</th>\n",
       "      <th>longitude</th>\n",
       "      <th>property_type</th>\n",
       "      <th>room_type</th>\n",
       "      <th>accommodates</th>\n",
       "      <th>bathrooms</th>\n",
       "      <th>bedrooms</th>\n",
       "    </tr>\n",
       "  </thead>\n",
       "  <tbody>\n",
       "    <tr>\n",
       "      <th>0</th>\n",
       "      <td>70820</td>\n",
       "      <td>City View - Sarah's double room.</td>\n",
       "      <td>360195</td>\n",
       "      <td>Sarah</td>\n",
       "      <td>Windmill Hill</td>\n",
       "      <td>BS3 4</td>\n",
       "      <td>51.439942</td>\n",
       "      <td>-2.591726</td>\n",
       "      <td>Townhouse</td>\n",
       "      <td>Private room</td>\n",
       "      <td>2</td>\n",
       "      <td>1</td>\n",
       "      <td>1</td>\n",
       "    </tr>\n",
       "    <tr>\n",
       "      <th>1</th>\n",
       "      <td>117122</td>\n",
       "      <td>City Centre - Waterside Retreat</td>\n",
       "      <td>591555</td>\n",
       "      <td>Marcus</td>\n",
       "      <td>Clifton</td>\n",
       "      <td>BS8 4UJ</td>\n",
       "      <td>51.450512</td>\n",
       "      <td>-2.610536</td>\n",
       "      <td>Apartment</td>\n",
       "      <td>Private room</td>\n",
       "      <td>4</td>\n",
       "      <td>2</td>\n",
       "      <td>1</td>\n",
       "    </tr>\n",
       "    <tr>\n",
       "      <th>2</th>\n",
       "      <td>146407</td>\n",
       "      <td>Sunny Central Artist Cottage (Dbl)</td>\n",
       "      <td>708175</td>\n",
       "      <td>Orla</td>\n",
       "      <td>Southville</td>\n",
       "      <td>BS3</td>\n",
       "      <td>51.441308</td>\n",
       "      <td>-2.602706</td>\n",
       "      <td>Townhouse</td>\n",
       "      <td>Private room</td>\n",
       "      <td>3</td>\n",
       "      <td>1</td>\n",
       "      <td>1</td>\n",
       "    </tr>\n",
       "  </tbody>\n",
       "</table>\n",
       "</div>"
      ],
      "text/plain": [
       "       id                                name  host_id host_name  \\\n",
       "0   70820    City View - Sarah's double room.   360195     Sarah   \n",
       "1  117122     City Centre - Waterside Retreat   591555    Marcus   \n",
       "2  146407  Sunny Central Artist Cottage (Dbl)   708175      Orla   \n",
       "\n",
       "   neighbourhood postcode   latitude  longitude property_type     room_type  \\\n",
       "0  Windmill Hill    BS3 4  51.439942  -2.591726     Townhouse  Private room   \n",
       "1        Clifton  BS8 4UJ  51.450512  -2.610536     Apartment  Private room   \n",
       "2     Southville      BS3  51.441308  -2.602706     Townhouse  Private room   \n",
       "\n",
       "  accommodates bathrooms bedrooms  \n",
       "0            2         1        1  \n",
       "1            4         2        1  \n",
       "2            3         1        1  "
      ]
     },
     "execution_count": 9,
     "metadata": {},
     "output_type": "execute_result"
    }
   ],
   "source": [
    "airbnb.iloc[0:3,0:13]"
   ]
  },
  {
   "cell_type": "code",
   "execution_count": 3,
   "metadata": {},
   "outputs": [
    {
     "data": {
      "text/html": [
       "<div>\n",
       "<style scoped>\n",
       "    .dataframe tbody tr th:only-of-type {\n",
       "        vertical-align: middle;\n",
       "    }\n",
       "\n",
       "    .dataframe tbody tr th {\n",
       "        vertical-align: top;\n",
       "    }\n",
       "\n",
       "    .dataframe thead th {\n",
       "        text-align: right;\n",
       "    }\n",
       "</style>\n",
       "<table border=\"1\" class=\"dataframe\">\n",
       "  <thead>\n",
       "    <tr style=\"text-align: right;\">\n",
       "      <th></th>\n",
       "      <th>beds</th>\n",
       "      <th>price</th>\n",
       "      <th>minimum_nights</th>\n",
       "      <th>number_of_reviews</th>\n",
       "      <th>last_review</th>\n",
       "      <th>reviews_per_month</th>\n",
       "      <th>review_scores_rating</th>\n",
       "      <th>review_scores_accuracy</th>\n",
       "      <th>review_scores_cleanliness</th>\n",
       "    </tr>\n",
       "  </thead>\n",
       "  <tbody>\n",
       "    <tr>\n",
       "      <th>0</th>\n",
       "      <td>1</td>\n",
       "      <td>27</td>\n",
       "      <td>4</td>\n",
       "      <td>130</td>\n",
       "      <td>2018-09-28</td>\n",
       "      <td>2.10</td>\n",
       "      <td>96</td>\n",
       "      <td>10</td>\n",
       "      <td>9</td>\n",
       "    </tr>\n",
       "    <tr>\n",
       "      <th>1</th>\n",
       "      <td>2</td>\n",
       "      <td>65</td>\n",
       "      <td>1</td>\n",
       "      <td>126</td>\n",
       "      <td>2018-10-28</td>\n",
       "      <td>1.40</td>\n",
       "      <td>99</td>\n",
       "      <td>10</td>\n",
       "      <td>10</td>\n",
       "    </tr>\n",
       "    <tr>\n",
       "      <th>2</th>\n",
       "      <td>2</td>\n",
       "      <td>38</td>\n",
       "      <td>2</td>\n",
       "      <td>57</td>\n",
       "      <td>2018-09-12</td>\n",
       "      <td>0.76</td>\n",
       "      <td>91</td>\n",
       "      <td>9</td>\n",
       "      <td>8</td>\n",
       "    </tr>\n",
       "  </tbody>\n",
       "</table>\n",
       "</div>"
      ],
      "text/plain": [
       "  beds  price  minimum_nights  number_of_reviews last_review  \\\n",
       "0    1     27               4                130  2018-09-28   \n",
       "1    2     65               1                126  2018-10-28   \n",
       "2    2     38               2                 57  2018-09-12   \n",
       "\n",
       "   reviews_per_month review_scores_rating review_scores_accuracy  \\\n",
       "0               2.10                   96                     10   \n",
       "1               1.40                   99                     10   \n",
       "2               0.76                   91                      9   \n",
       "\n",
       "  review_scores_cleanliness  \n",
       "0                         9  \n",
       "1                        10  \n",
       "2                         8  "
      ]
     },
     "execution_count": 3,
     "metadata": {},
     "output_type": "execute_result"
    }
   ],
   "source": [
    "airbnb.iloc[0:3,13:22]"
   ]
  },
  {
   "cell_type": "code",
   "execution_count": 6,
   "metadata": {},
   "outputs": [
    {
     "data": {
      "text/html": [
       "<div>\n",
       "<style scoped>\n",
       "    .dataframe tbody tr th:only-of-type {\n",
       "        vertical-align: middle;\n",
       "    }\n",
       "\n",
       "    .dataframe tbody tr th {\n",
       "        vertical-align: top;\n",
       "    }\n",
       "\n",
       "    .dataframe thead th {\n",
       "        text-align: right;\n",
       "    }\n",
       "</style>\n",
       "<table border=\"1\" class=\"dataframe\">\n",
       "  <thead>\n",
       "    <tr style=\"text-align: right;\">\n",
       "      <th></th>\n",
       "      <th>review_scores_checkin</th>\n",
       "      <th>review_scores_communication</th>\n",
       "      <th>review_scores_location</th>\n",
       "      <th>review_scores_value</th>\n",
       "      <th>calculated_host_listings_count</th>\n",
       "      <th>availability_365</th>\n",
       "    </tr>\n",
       "  </thead>\n",
       "  <tbody>\n",
       "    <tr>\n",
       "      <th>0</th>\n",
       "      <td>10</td>\n",
       "      <td>10.0</td>\n",
       "      <td>10.0</td>\n",
       "      <td>10.0</td>\n",
       "      <td>5</td>\n",
       "      <td>44</td>\n",
       "    </tr>\n",
       "    <tr>\n",
       "      <th>1</th>\n",
       "      <td>10</td>\n",
       "      <td>10.0</td>\n",
       "      <td>10.0</td>\n",
       "      <td>10.0</td>\n",
       "      <td>1</td>\n",
       "      <td>360</td>\n",
       "    </tr>\n",
       "    <tr>\n",
       "      <th>2</th>\n",
       "      <td>9</td>\n",
       "      <td>10.0</td>\n",
       "      <td>9.0</td>\n",
       "      <td>9.0</td>\n",
       "      <td>2</td>\n",
       "      <td>46</td>\n",
       "    </tr>\n",
       "  </tbody>\n",
       "</table>\n",
       "</div>"
      ],
      "text/plain": [
       "  review_scores_checkin  review_scores_communication  review_scores_location  \\\n",
       "0                    10                         10.0                    10.0   \n",
       "1                    10                         10.0                    10.0   \n",
       "2                     9                         10.0                     9.0   \n",
       "\n",
       "   review_scores_value  calculated_host_listings_count  availability_365  \n",
       "0                 10.0                               5                44  \n",
       "1                 10.0                               1               360  \n",
       "2                  9.0                               2                46  "
      ]
     },
     "execution_count": 6,
     "metadata": {},
     "output_type": "execute_result"
    }
   ],
   "source": [
    "airbnb.iloc[0:3,22:28]"
   ]
  },
  {
   "cell_type": "markdown",
   "metadata": {},
   "source": [
    "The snippet dataset above shows that there are multiple possibilities for machine learning, regression and classification. For this report, the focus will be on geographical classification and binary mutilabel classification. The questions that will be addressed are as follow:\n",
    "\n",
    "* **Is it possible to classify the neighbourhoods based on latitude and longitude?**\n",
    "* **Can we use machine learning to classify between professional and amateur listers?**\n",
    "\n",
    "For the classification of the neighbourhoods, the accuracy most be atleast 80% for it to be considered somewhat acceptable. Values below this will result in the question to be labeled as not doable to do given the algorithms and variables. On the other hand, in the feud between the amateur and professional listers, an unintelligent machine will on average guess 50% right. For this reason, everything below 70% will be considered as a unsatisfied result. A professional lister will be defined as a landlord that has more than one listing.\n",
    "\n",
    "The \"No Free Lunch Theorem\" says that there is no superior algorithm in Machine Learning that will outperform the rest every time. For this reason, multiple algorithms will be used. (Wolpert, 1997)\n",
    "\n",
    "I order to use this dataset for analysis, it is important to check it for mistakes, missing values, errors and modifications. Given this is a modified dataset, one might be temped to go deeper into the dataset than usual."
   ]
  },
  {
   "cell_type": "markdown",
   "metadata": {},
   "source": [
    "## Step 1: Checking the Data | Multiclass Classification\n",
    "\n",
    "[[ go back to the top ]](#Table-of-contents)\n",
    "\n",
    "There are multiple approaches to check whether a dataset is suitable for analysis. However, the first approach should be to drop columns that are not needed. The columns; 'id', 'name', 'host_id', 'postcode', 'minimum_nights', 'number_of_reviews', 'last_review', 'reviews_per_month', 'availability_365' will be dropped completely since they will not be needed in any of the analysis. "
   ]
  },
  {
   "cell_type": "code",
   "execution_count": 14,
   "metadata": {},
   "outputs": [],
   "source": [
    "airbnb = airbnb.drop(['id', 'name', 'host_name', 'host_id', 'postcode', 'minimum_nights', 'number_of_reviews'\n",
    "                      , 'last_review', 'reviews_per_month', 'availability_365'], axis =1)"
   ]
  },
  {
   "cell_type": "code",
   "execution_count": 44,
   "metadata": {},
   "outputs": [
    {
     "data": {
      "text/html": [
       "<div>\n",
       "<style scoped>\n",
       "    .dataframe tbody tr th:only-of-type {\n",
       "        vertical-align: middle;\n",
       "    }\n",
       "\n",
       "    .dataframe tbody tr th {\n",
       "        vertical-align: top;\n",
       "    }\n",
       "\n",
       "    .dataframe thead th {\n",
       "        text-align: right;\n",
       "    }\n",
       "</style>\n",
       "<table border=\"1\" class=\"dataframe\">\n",
       "  <thead>\n",
       "    <tr style=\"text-align: right;\">\n",
       "      <th></th>\n",
       "      <th>neighbourhood</th>\n",
       "      <th>latitude</th>\n",
       "      <th>longitude</th>\n",
       "      <th>property_type</th>\n",
       "      <th>room_type</th>\n",
       "      <th>accommodates</th>\n",
       "      <th>bathrooms</th>\n",
       "      <th>bedrooms</th>\n",
       "      <th>beds</th>\n",
       "      <th>price</th>\n",
       "      <th>review_scores_rating</th>\n",
       "      <th>review_scores_accuracy</th>\n",
       "    </tr>\n",
       "  </thead>\n",
       "  <tbody>\n",
       "    <tr>\n",
       "      <th>0</th>\n",
       "      <td>Windmill Hill</td>\n",
       "      <td>51.439942</td>\n",
       "      <td>-2.591726</td>\n",
       "      <td>Townhouse</td>\n",
       "      <td>Private room</td>\n",
       "      <td>2</td>\n",
       "      <td>1</td>\n",
       "      <td>1</td>\n",
       "      <td>1</td>\n",
       "      <td>27</td>\n",
       "      <td>96</td>\n",
       "      <td>10</td>\n",
       "    </tr>\n",
       "    <tr>\n",
       "      <th>1</th>\n",
       "      <td>Clifton</td>\n",
       "      <td>51.450512</td>\n",
       "      <td>-2.610536</td>\n",
       "      <td>Apartment</td>\n",
       "      <td>Private room</td>\n",
       "      <td>4</td>\n",
       "      <td>2</td>\n",
       "      <td>1</td>\n",
       "      <td>2</td>\n",
       "      <td>65</td>\n",
       "      <td>99</td>\n",
       "      <td>10</td>\n",
       "    </tr>\n",
       "    <tr>\n",
       "      <th>2</th>\n",
       "      <td>Southville</td>\n",
       "      <td>51.441308</td>\n",
       "      <td>-2.602706</td>\n",
       "      <td>Townhouse</td>\n",
       "      <td>Private room</td>\n",
       "      <td>3</td>\n",
       "      <td>1</td>\n",
       "      <td>1</td>\n",
       "      <td>2</td>\n",
       "      <td>38</td>\n",
       "      <td>91</td>\n",
       "      <td>9</td>\n",
       "    </tr>\n",
       "  </tbody>\n",
       "</table>\n",
       "</div>"
      ],
      "text/plain": [
       "   neighbourhood   latitude  longitude property_type     room_type  \\\n",
       "0  Windmill Hill  51.439942  -2.591726     Townhouse  Private room   \n",
       "1        Clifton  51.450512  -2.610536     Apartment  Private room   \n",
       "2     Southville  51.441308  -2.602706     Townhouse  Private room   \n",
       "\n",
       "  accommodates bathrooms bedrooms beds  price review_scores_rating  \\\n",
       "0            2         1        1    1     27                   96   \n",
       "1            4         2        1    2     65                   99   \n",
       "2            3         1        1    2     38                   91   \n",
       "\n",
       "  review_scores_accuracy  \n",
       "0                     10  \n",
       "1                     10  \n",
       "2                      9  "
      ]
     },
     "execution_count": 44,
     "metadata": {},
     "output_type": "execute_result"
    }
   ],
   "source": [
    "airbnb.iloc[0:3,0:12]"
   ]
  },
  {
   "cell_type": "code",
   "execution_count": 45,
   "metadata": {},
   "outputs": [
    {
     "data": {
      "text/html": [
       "<div>\n",
       "<style scoped>\n",
       "    .dataframe tbody tr th:only-of-type {\n",
       "        vertical-align: middle;\n",
       "    }\n",
       "\n",
       "    .dataframe tbody tr th {\n",
       "        vertical-align: top;\n",
       "    }\n",
       "\n",
       "    .dataframe thead th {\n",
       "        text-align: right;\n",
       "    }\n",
       "</style>\n",
       "<table border=\"1\" class=\"dataframe\">\n",
       "  <thead>\n",
       "    <tr style=\"text-align: right;\">\n",
       "      <th></th>\n",
       "      <th>review_scores_cleanliness</th>\n",
       "      <th>review_scores_checkin</th>\n",
       "      <th>review_scores_communication</th>\n",
       "      <th>review_scores_location</th>\n",
       "      <th>review_scores_value</th>\n",
       "      <th>calculated_host_listings_count</th>\n",
       "    </tr>\n",
       "  </thead>\n",
       "  <tbody>\n",
       "    <tr>\n",
       "      <th>0</th>\n",
       "      <td>9</td>\n",
       "      <td>10</td>\n",
       "      <td>10.0</td>\n",
       "      <td>10.0</td>\n",
       "      <td>10.0</td>\n",
       "      <td>5</td>\n",
       "    </tr>\n",
       "    <tr>\n",
       "      <th>1</th>\n",
       "      <td>10</td>\n",
       "      <td>10</td>\n",
       "      <td>10.0</td>\n",
       "      <td>10.0</td>\n",
       "      <td>10.0</td>\n",
       "      <td>1</td>\n",
       "    </tr>\n",
       "    <tr>\n",
       "      <th>2</th>\n",
       "      <td>8</td>\n",
       "      <td>9</td>\n",
       "      <td>10.0</td>\n",
       "      <td>9.0</td>\n",
       "      <td>9.0</td>\n",
       "      <td>2</td>\n",
       "    </tr>\n",
       "  </tbody>\n",
       "</table>\n",
       "</div>"
      ],
      "text/plain": [
       "  review_scores_cleanliness review_scores_checkin  \\\n",
       "0                         9                    10   \n",
       "1                        10                    10   \n",
       "2                         8                     9   \n",
       "\n",
       "   review_scores_communication  review_scores_location  review_scores_value  \\\n",
       "0                         10.0                    10.0                 10.0   \n",
       "1                         10.0                    10.0                 10.0   \n",
       "2                         10.0                     9.0                  9.0   \n",
       "\n",
       "   calculated_host_listings_count  \n",
       "0                               5  \n",
       "1                               1  \n",
       "2                               2  "
      ]
     },
     "execution_count": 45,
     "metadata": {},
     "output_type": "execute_result"
    }
   ],
   "source": [
    "airbnb.iloc[0:3,12:18]"
   ]
  },
  {
   "cell_type": "markdown",
   "metadata": {},
   "source": [
    "Furthermore, the report consists of two problems that uses different data. In order to keep at much data as possible, the data should be cleansed only in the columns that are appropriate for each problem. Any total statistical description or visualization is seen as unnecessary due to the fact that dataset consist of different types variables with different purpose. Visualization will be presented when the associated variables are combined.\n",
    "\n",
    "To a make model that are able to classify the different neighbourhoods (regions), the variables 'neighbourhood', 'latitude' and 'longitude' will be used. Neighbourhood will be the depended variable that is being predicted by the other two variables. "
   ]
  },
  {
   "cell_type": "code",
   "execution_count": 17,
   "metadata": {},
   "outputs": [
    {
     "data": {
      "text/html": [
       "<div>\n",
       "<style scoped>\n",
       "    .dataframe tbody tr th:only-of-type {\n",
       "        vertical-align: middle;\n",
       "    }\n",
       "\n",
       "    .dataframe tbody tr th {\n",
       "        vertical-align: top;\n",
       "    }\n",
       "\n",
       "    .dataframe thead th {\n",
       "        text-align: right;\n",
       "    }\n",
       "</style>\n",
       "<table border=\"1\" class=\"dataframe\">\n",
       "  <thead>\n",
       "    <tr style=\"text-align: right;\">\n",
       "      <th></th>\n",
       "      <th>neighbourhood</th>\n",
       "      <th>latitude</th>\n",
       "      <th>longitude</th>\n",
       "    </tr>\n",
       "  </thead>\n",
       "  <tbody>\n",
       "    <tr>\n",
       "      <th>0</th>\n",
       "      <td>Windmill Hill</td>\n",
       "      <td>51.439942</td>\n",
       "      <td>-2.591726</td>\n",
       "    </tr>\n",
       "    <tr>\n",
       "      <th>1</th>\n",
       "      <td>Clifton</td>\n",
       "      <td>51.450512</td>\n",
       "      <td>-2.610536</td>\n",
       "    </tr>\n",
       "    <tr>\n",
       "      <th>2</th>\n",
       "      <td>Southville</td>\n",
       "      <td>51.441308</td>\n",
       "      <td>-2.602706</td>\n",
       "    </tr>\n",
       "    <tr>\n",
       "      <th>3</th>\n",
       "      <td>Bedminster</td>\n",
       "      <td>51.441006</td>\n",
       "      <td>-2.601208</td>\n",
       "    </tr>\n",
       "    <tr>\n",
       "      <th>4</th>\n",
       "      <td>Bedminster</td>\n",
       "      <td>51.438517</td>\n",
       "      <td>-2.601421</td>\n",
       "    </tr>\n",
       "  </tbody>\n",
       "</table>\n",
       "</div>"
      ],
      "text/plain": [
       "   neighbourhood   latitude  longitude\n",
       "0  Windmill Hill  51.439942  -2.591726\n",
       "1        Clifton  51.450512  -2.610536\n",
       "2     Southville  51.441308  -2.602706\n",
       "3     Bedminster  51.441006  -2.601208\n",
       "4     Bedminster  51.438517  -2.601421"
      ]
     },
     "execution_count": 17,
     "metadata": {},
     "output_type": "execute_result"
    }
   ],
   "source": [
    "airbnb_region = airbnb[['neighbourhood','latitude','longitude']]\n",
    "airbnb_region.head()"
   ]
  },
  {
   "cell_type": "markdown",
   "metadata": {},
   "source": [
    "From the dataset above, the desired variables are selected. However, the dataset must be check first. \n",
    "The approach to make the dataset ready for analyzation is to check for missing values, then errors."
   ]
  },
  {
   "cell_type": "code",
   "execution_count": 56,
   "metadata": {},
   "outputs": [
    {
     "data": {
      "text/plain": [
       "neighbourhood    0\n",
       "latitude         0\n",
       "longitude        0\n",
       "dtype: int64"
      ]
     },
     "execution_count": 56,
     "metadata": {},
     "output_type": "execute_result"
    }
   ],
   "source": [
    "airbnb_region.isnull().sum()"
   ]
  },
  {
   "cell_type": "markdown",
   "metadata": {},
   "source": [
    "The describption above shows that there are no missing values."
   ]
  },
  {
   "cell_type": "code",
   "execution_count": 57,
   "metadata": {},
   "outputs": [
    {
     "data": {
      "text/plain": [
       "neighbourhood     object\n",
       "latitude         float64\n",
       "longitude        float64\n",
       "dtype: object"
      ]
     },
     "execution_count": 57,
     "metadata": {},
     "output_type": "execute_result"
    }
   ],
   "source": [
    "airbnb_region.dtypes"
   ]
  },
  {
   "cell_type": "markdown",
   "metadata": {},
   "source": [
    "From the table above, the variables are in desired datatype. To check the columns for mistakes, there are several approaches that can be made. The first column consists of object, which usually are not so many of and therefore a outline of the unique variables could help."
   ]
  },
  {
   "cell_type": "code",
   "execution_count": 20,
   "metadata": {},
   "outputs": [
    {
     "name": "stdout",
     "output_type": "stream",
     "text": [
      "['Windmill Hill' 'Clifton' 'Southville' 'Bedminster' 'Easton' 'Ashley'\n",
      " 'Redland' 'Brislington West' 'Brislington East' 'Lawrence Hill' 'Central'\n",
      " 'Eastville' 'Hotwells & Harbourside' 'St George West' 'St George Central'\n",
      " 'Stoke Bishop' 'Bishopsworth' 'Henbury & Brentry' 'Lockleaze' 'Cotham'\n",
      " 'Southmead' 'Westbury-on-Trym & Henleaze' 'Clifton Down' 'Stockwood'\n",
      " 'Bishopston & Ashley Down' 'Frome Vale' 'Avonmouth & Lawrence Weston'\n",
      " 'Knowle' 'Horfield' 'Hillfields' 'St George Troopers Hill' 'Filwood'\n",
      " 'Hengrove & Whitchurch Park' 'Hartcliffe & Withywood']\n",
      "34\n"
     ]
    }
   ],
   "source": [
    "print(airbnb_region['neighbourhood'].unique())\n",
    "print(len(airbnb_region['neighbourhood'].unique()))"
   ]
  },
  {
   "cell_type": "markdown",
   "metadata": {},
   "source": [
    "All the neighbourhoods above are neighbourhoods in Bristol. Even though, according to the government of Bristol, Westbuty on Trym and Henleaze are two different neighbourhoods, we will treat them as one. To check whether there are any mistakes or errors in the variable latitude or longitude, we can make a for look check if we coordinated are as predicted. (Britol.gov.uk, 2019)"
   ]
  },
  {
   "cell_type": "code",
   "execution_count": 101,
   "metadata": {},
   "outputs": [
    {
     "name": "stdout",
     "output_type": "stream",
     "text": [
      "51.51255450359999\n",
      "51.404298635699995\n",
      "-2.5146350022\n",
      "-2.7014181506\n"
     ]
    }
   ],
   "source": [
    "print(airbnb_region['latitude'].max())\n",
    "print(airbnb_region['latitude'].min())\n",
    "print(airbnb_region['longitude'].max())\n",
    "print(airbnb_region['longitude'].min())"
   ]
  },
  {
   "cell_type": "markdown",
   "metadata": {},
   "source": [
    "The output above shows that all the coordinates are within reason. A for loop can provide the same qualification."
   ]
  },
  {
   "cell_type": "code",
   "execution_count": 98,
   "metadata": {},
   "outputs": [
    {
     "name": "stdout",
     "output_type": "stream",
     "text": [
      "All latitude values between 53 and 52, and all longitude values between -3 and -2\n"
     ]
    }
   ],
   "source": [
    "ii = 0\n",
    "jj = 0\n",
    "for i in airbnb[\"latitude\"]:\n",
    "    if i > 52 or i < 51:\n",
    "        print (i)\n",
    "        ii = +1\n",
    "\n",
    "for j in airbnb[\"longitude\"]:\n",
    "    j = j*-1\n",
    "    if j > 3 or j < 2: \n",
    "        print (j)\n",
    "        jj = +1\n",
    "\n",
    "if (ii + jj) == 0:\n",
    "    print('All latitude values between 53 and 52,', 'and', 'all longitude values between -3 and -2')\n",
    "    "
   ]
  },
  {
   "cell_type": "markdown",
   "metadata": {},
   "source": [
    "From the output above, we assume that all the coordinates are correct and there are no errors."
   ]
  },
  {
   "cell_type": "markdown",
   "metadata": {},
   "source": [
    "## Step 2: Classifying the regions in Bristol\n",
    "\n",
    "[[ go back to the top ]](#Table-of-contents)\n",
    "\n",
    "The dataset is cleansed and it can be used for data analysis. Before we look at the data, we can have a look at the real map of Bristol to get a view over how the city is structured.\n",
    "\n"
   ]
  },
  {
   "cell_type": "code",
   "execution_count": 110,
   "metadata": {},
   "outputs": [
    {
     "data": {
      "text/html": [
       "<img src=\"http://www.bristolnhwnetwork.org.uk/uploads/1/2/6/4/12643669/6710274_orig.png\"/>"
      ],
      "text/plain": [
       "<IPython.core.display.Image object>"
      ]
     },
     "execution_count": 110,
     "metadata": {},
     "output_type": "execute_result"
    }
   ],
   "source": [
    "from IPython.display import Image\n",
    "from IPython.core.display import HTML \n",
    "Image(url= \"http://www.bristolnhwnetwork.org.uk/uploads/1/2/6/4/12643669/6710274_orig.png\")"
   ]
  },
  {
   "cell_type": "markdown",
   "metadata": {},
   "source": [
    "To illustrated how the given data are distributed, it can be plotted in a scatter diagram. The X-axis will represent longitude and the y-axis latitude. "
   ]
  },
  {
   "cell_type": "code",
   "execution_count": 116,
   "metadata": {},
   "outputs": [
    {
     "data": {
      "image/png": "[encoded data removed]",
      "text/plain": [
       "<Figure size 1080x1080 with 1 Axes>"
      ]
     },
     "metadata": {},
     "output_type": "display_data"
    }
   ],
   "source": [
    "import numpy as np\n",
    "from matplotlib import pyplot as plt\n",
    "import matplotlib.pyplot as plt\n",
    "import matplotlib.colors as colors\n",
    "colors_list = list(colors._colors_full_map.values())\n",
    "plt.rcParams[\"figure.figsize\"] = (15,15)\n",
    "airbnb_neighbourhood = airbnb['neighbourhood'].tolist()\n",
    "\n",
    "labels_values = []\n",
    "for k in range(1,35):\n",
    "    labels_values.append(k)\n",
    "\n",
    "neighbourhood_label = []\n",
    "labels = airbnb['neighbourhood'].unique()\n",
    "labels = airbnb['neighbourhood'].unique().tolist()\n",
    "airbnb_neighbourhood = airbnb['neighbourhood'].tolist()\n",
    "\n",
    "airbnb_labels = []\n",
    "region=[]\n",
    "\n",
    "for i in range(len(airbnb_neighbourhood)):\n",
    "    region = airbnb_neighbourhood[i]\n",
    "    for j in range(len(labels)):\n",
    "        if labels[j] == region:\n",
    "            airbnb_labels.append(labels_values[j])\n",
    "\n",
    "xx = airbnb['latitude']\n",
    "yy = airbnb['longitude']  \n",
    "\n",
    "scatter_x = np.array(xx)\n",
    "scatter_y = np.array(yy)\n",
    "group = np.array(airbnb_labels)\n",
    "\n",
    "color_dict = dict(zip(labels_values, colors_list[0:34])) \n",
    "\n",
    "label_list= airbnb['neighbourhood'].unique().tolist()\n",
    "\n",
    "for g in range(len(airbnb['latitude'])):\n",
    "    q = airbnb_labels[g]\n",
    "    plt.scatter(scatter_y[g], scatter_x[g], c = color_dict[q], facecolor = 'grey', label = airbnb_neighbourhood[g] \n",
    "                if airbnb_neighbourhood[g] in label_list else \"\" ) \n",
    "\n",
    "    if airbnb_neighbourhood[g] in label_list:\n",
    "        label_list.remove(airbnb_neighbourhood[g])\n",
    "    \n",
    "plt.legend()\n",
    "\n",
    "plt.xlabel('Longitude', fontsize=25)\n",
    "plt.ylabel('Latitude', fontsize=25)\n",
    "plt.title('Estimated Visulized Map over Bristol', fontsize=25)\n",
    "plt.show()"
   ]
  },
  {
   "cell_type": "markdown",
   "metadata": {},
   "source": [
    "The scatter plot above shows that the data is fairly distributed. Although, the center of city got more plots than the outer city.  "
   ]
  },
  {
   "cell_type": "markdown",
   "metadata": {},
   "source": [
    "## Step 3: Kmeans | Unsupervised Machine Learning\n",
    "\n",
    "[[ go back to the top ]](#Table-of-contents)\n",
    "\n",
    "The first method that are going to be used is unsupervised Kmeans clustering. Kmeans clustering tries to partition the observation(n) into desired clusters (k). For the Kmeans cluster, all the different neighborhoods will be given a different label from 1 to 34 \n",
    "\n"
   ]
  },
  {
   "cell_type": "code",
   "execution_count": null,
   "metadata": {},
   "outputs": [],
   "source": [
    "from sklearn.cluster import KMeans\n",
    "from sklearn.model_selection import train_test_split\n",
    "labels_values = []\n",
    "for k in range(1,35):\n",
    "    labels_values.append(k)\n",
    "\n",
    "\n",
    "neighbourhood_label = []\n",
    "labels = airbnb['neighbourhood'].unique()\n",
    "labels = airbnb['neighbourhood'].unique().tolist()\n",
    "airbnb_neighbourhood = airbnb['neighbourhood'].tolist()\n",
    "\n",
    "airbnb_labels = []\n",
    "region=[]\n",
    "\n",
    "for i in range(len(airbnb_neighbourhood)):\n",
    "    region = airbnb_neighbourhood[i]\n",
    "    for j in range(len(labels)):\n",
    "        if labels[j] == region:\n",
    "            airbnb_labels.append(labels_values[j])\n",
    "\n",
    "airbnb_kmeans = airbnb_region\n",
    "airbnb_kmeans['labels'] = airbnb_labels\n",
    "airbnb_kmeans = airbnb_kmeans.drop(['neighbourhood'], axis = 1)\n"
   ]
  },
  {
   "cell_type": "code",
   "execution_count": 131,
   "metadata": {},
   "outputs": [
    {
     "data": {
      "text/html": [
       "<div>\n",
       "<style scoped>\n",
       "    .dataframe tbody tr th:only-of-type {\n",
       "        vertical-align: middle;\n",
       "    }\n",
       "\n",
       "    .dataframe tbody tr th {\n",
       "        vertical-align: top;\n",
       "    }\n",
       "\n",
       "    .dataframe thead th {\n",
       "        text-align: right;\n",
       "    }\n",
       "</style>\n",
       "<table border=\"1\" class=\"dataframe\">\n",
       "  <thead>\n",
       "    <tr style=\"text-align: right;\">\n",
       "      <th></th>\n",
       "      <th>latitude</th>\n",
       "      <th>longitude</th>\n",
       "      <th>labels</th>\n",
       "    </tr>\n",
       "  </thead>\n",
       "  <tbody>\n",
       "    <tr>\n",
       "      <th>0</th>\n",
       "      <td>51.439942</td>\n",
       "      <td>-2.591726</td>\n",
       "      <td>1</td>\n",
       "    </tr>\n",
       "    <tr>\n",
       "      <th>1</th>\n",
       "      <td>51.450512</td>\n",
       "      <td>-2.610536</td>\n",
       "      <td>2</td>\n",
       "    </tr>\n",
       "    <tr>\n",
       "      <th>2</th>\n",
       "      <td>51.441308</td>\n",
       "      <td>-2.602706</td>\n",
       "      <td>3</td>\n",
       "    </tr>\n",
       "    <tr>\n",
       "      <th>3</th>\n",
       "      <td>51.441006</td>\n",
       "      <td>-2.601208</td>\n",
       "      <td>4</td>\n",
       "    </tr>\n",
       "    <tr>\n",
       "      <th>4</th>\n",
       "      <td>51.438517</td>\n",
       "      <td>-2.601421</td>\n",
       "      <td>4</td>\n",
       "    </tr>\n",
       "    <tr>\n",
       "      <th>5</th>\n",
       "      <td>51.466409</td>\n",
       "      <td>-2.555332</td>\n",
       "      <td>5</td>\n",
       "    </tr>\n",
       "    <tr>\n",
       "      <th>6</th>\n",
       "      <td>51.466684</td>\n",
       "      <td>-2.582741</td>\n",
       "      <td>6</td>\n",
       "    </tr>\n",
       "    <tr>\n",
       "      <th>7</th>\n",
       "      <td>51.466615</td>\n",
       "      <td>-2.587090</td>\n",
       "      <td>6</td>\n",
       "    </tr>\n",
       "    <tr>\n",
       "      <th>8</th>\n",
       "      <td>51.479260</td>\n",
       "      <td>-2.591081</td>\n",
       "      <td>7</td>\n",
       "    </tr>\n",
       "    <tr>\n",
       "      <th>9</th>\n",
       "      <td>51.479706</td>\n",
       "      <td>-2.591490</td>\n",
       "      <td>7</td>\n",
       "    </tr>\n",
       "  </tbody>\n",
       "</table>\n",
       "</div>"
      ],
      "text/plain": [
       "    latitude  longitude  labels\n",
       "0  51.439942  -2.591726       1\n",
       "1  51.450512  -2.610536       2\n",
       "2  51.441308  -2.602706       3\n",
       "3  51.441006  -2.601208       4\n",
       "4  51.438517  -2.601421       4\n",
       "5  51.466409  -2.555332       5\n",
       "6  51.466684  -2.582741       6\n",
       "7  51.466615  -2.587090       6\n",
       "8  51.479260  -2.591081       7\n",
       "9  51.479706  -2.591490       7"
      ]
     },
     "execution_count": 131,
     "metadata": {},
     "output_type": "execute_result"
    }
   ],
   "source": [
    "airbnb_kmeans.head(10)"
   ]
  },
  {
   "cell_type": "markdown",
   "metadata": {},
   "source": [
    "The neighbourhoods are now labeled from 1 to 34 and we can see if there is possible to cluster the labels based on longitude and latitude using K-means clustering. Naturally, the number of clusters will be equal the number of different neighbourhoods."
   ]
  },
  {
   "cell_type": "code",
   "execution_count": 162,
   "metadata": {},
   "outputs": [
    {
     "data": {
      "text/plain": [
       "KMeans(algorithm='auto', copy_x=True, init='k-means++', max_iter=300,\n",
       "    n_clusters=34, n_init=10, n_jobs=None, precompute_distances='auto',\n",
       "    random_state=42, tol=0.0001, verbose=0)"
      ]
     },
     "execution_count": 162,
     "metadata": {},
     "output_type": "execute_result"
    }
   ],
   "source": [
    "X = airbnb_kmeans[['latitude','longitude']]\n",
    "y = airbnb_kmeans['labels']\n",
    "X_train , X_test , y_train , y_test = train_test_split(X,y,random_state=42)\n",
    "clf = KMeans(n_clusters = 34, random_state = 42, n_init=10)\n",
    "clf.fit(X_train,y_train)"
   ]
  },
  {
   "cell_type": "code",
   "execution_count": 133,
   "metadata": {},
   "outputs": [
    {
     "data": {
      "image/png": "[encoded data removed]",
      "text/plain": [
       "<Figure size 1200x1200 with 1 Axes>"
      ]
     },
     "metadata": {},
     "output_type": "display_data"
    }
   ],
   "source": [
    "import matplotlib.colors as colors\n",
    "longitude_latitude = X_train[['latitude', 'longitude']]\n",
    "l_l_array = longitude_latitude.values\n",
    "colors_list = list(colors._colors_full_map.values())\n",
    "clf = KMeans(n_clusters=34, random_state = 42)\n",
    "clf.fit(X_train, y_train)\n",
    "\n",
    "centroids = clf.cluster_centers_\n",
    "labels = clf.labels_\n",
    "\n",
    "colors = colors_list[0:34]\n",
    "\n",
    "plt.figure(figsize=(15,15), dpi=80)\n",
    "for i in range (len(l_l_array-1)):\n",
    "    plt.scatter(l_l_array[i][1], l_l_array[i][0], c = colors[labels[i]] )\n",
    "    \n",
    "plt.xlabel('Longitude', fontsize=25)\n",
    "plt.ylabel('Latitude', fontsize=25)\n",
    "plt.title('Estimated K-means Visulized Map over Bristol', fontsize=25)    \n",
    "    \n",
    "plt.show()"
   ]
  },
  {
   "cell_type": "markdown",
   "metadata": {},
   "source": [
    "The cluster above shows that algorithm was able to cluster the dataset into different groups. To estimate how well the unsupervised model was to cluster the neighbourhoods, we can have a look at the silhouette score. The silhouette score ranges from -1 to 1 where a high value indicates that well matched clusters. "
   ]
  },
  {
   "cell_type": "code",
   "execution_count": 165,
   "metadata": {},
   "outputs": [
    {
     "name": "stdout",
     "output_type": "stream",
     "text": [
      "Training set: -0.04824433684507312\n",
      "Test set:     -0.018755886577309866\n"
     ]
    }
   ],
   "source": [
    "print(\"Training set:\", clf.score(X_train,y_train))\n",
    "print(\"Test set:    \", clf.score(X_test,y_test))"
   ]
  },
  {
   "cell_type": "markdown",
   "metadata": {},
   "source": [
    "The cluster returns negative values both for the training set and test set. It is therefore not optimal to use unsupervised K-means clustering to cluster the data based on our inputs. The reason for this is that the model does not have any information about the neighbourhood borders in Bristol. It will cluster based on the groups average, and cluster observations with the nearest mean. \n",
    "\n",
    "Alternatively, supervised learning can be used to tackle this problem. "
   ]
  },
  {
   "cell_type": "markdown",
   "metadata": {},
   "source": [
    "## Step 4: Kneighbours | Supervised Machine Learning\n",
    "\n",
    "[[ go back to the top ]](#Table-of-contents)\n",
    "\n",
    "Supervised learning uses labeled data to classify observations. From the supervised algorithm available, K-nearest neighbours(KNN) will be choses. KNN is a type of instance-based learning which the objects being classified plurality vote of its neighbours and then assign to the group class most common among its nearest neighbours. The number of neighbours can be assigned, and the following code will check the percentage score for 1 to 20 neighbours."
   ]
  },
  {
   "cell_type": "code",
   "execution_count": 175,
   "metadata": {},
   "outputs": [
    {
     "data": {
      "image/png": "[encoded data removed]",
      "text/plain": [
       "<Figure size 576x576 with 1 Axes>"
      ]
     },
     "metadata": {},
     "output_type": "display_data"
    }
   ],
   "source": [
    "from sklearn.neighbors import KNeighborsClassifier\n",
    "knn=KNeighborsClassifier()\n",
    "knn.fit(X_train,y_train)\n",
    "knn_train = []\n",
    "knn_test = []\n",
    "for i in range(1,20):\n",
    "    knn=KNeighborsClassifier(n_neighbors=i)\n",
    "    knn.fit(X_train,y_train)\n",
    "    knn_train.append(knn.score(X_train,y_train))\n",
    "    knn_test.append(knn.score(X_test,y_test))\n",
    "\n",
    "knn_train_df = pd.DataFrame(knn_train)\n",
    "knn_test_df = pd.DataFrame(knn_test)\n",
    "plt.figure(figsize=(8,8))\n",
    "plt.plot(knn_train_df)\n",
    "plt.plot(knn_test_df)\n",
    "plt.show()"
   ]
  },
  {
   "cell_type": "markdown",
   "metadata": {},
   "source": [
    "The graph above illustrates that increasing k-neighbours leads to more mistakes. This suggest that if we base our classification on the closest neighbour we will have the biggest chance of classifying correctly.   "
   ]
  },
  {
   "cell_type": "code",
   "execution_count": 177,
   "metadata": {},
   "outputs": [
    {
     "data": {
      "text/plain": [
       "0.9158249158249159"
      ]
     },
     "execution_count": 177,
     "metadata": {},
     "output_type": "execute_result"
    }
   ],
   "source": [
    "knn=KNeighborsClassifier(n_neighbors=1)\n",
    "knn.fit(X_train,y_train)\n",
    "knn.score(X_test,y_test)"
   ]
  },
  {
   "cell_type": "markdown",
   "metadata": {},
   "source": [
    "The accuracy above shows that there are over 91 % chance of correct classification."
   ]
  },
  {
   "cell_type": "code",
   "execution_count": 179,
   "metadata": {},
   "outputs": [
    {
     "name": "stdout",
     "output_type": "stream",
     "text": [
      "              precision    recall  f1-score   support\n",
      "\n",
      "           1       1.00      0.93      0.97        30\n",
      "           2       0.93      0.95      0.94        40\n",
      "           3       0.84      1.00      0.91        31\n",
      "           4       0.93      0.76      0.84        17\n",
      "           5       0.89      1.00      0.94        17\n",
      "           6       0.97      0.91      0.94        80\n",
      "           7       0.91      0.68      0.78        31\n",
      "           8       1.00      1.00      1.00         6\n",
      "           9       1.00      1.00      1.00         6\n",
      "          10       0.97      0.97      0.97        31\n",
      "          11       0.91      0.96      0.94        77\n",
      "          12       1.00      0.94      0.97        16\n",
      "          13       0.95      0.75      0.84        24\n",
      "          14       0.83      1.00      0.91         5\n",
      "          15       1.00      0.83      0.91         6\n",
      "          16       0.89      1.00      0.94         8\n",
      "          17       0.80      0.80      0.80         5\n",
      "          18       0.83      1.00      0.91         5\n",
      "          19       1.00      0.50      0.67         6\n",
      "          20       0.85      0.93      0.89        30\n",
      "          21       1.00      0.67      0.80         3\n",
      "          22       0.75      1.00      0.86         6\n",
      "          23       0.94      0.94      0.94        34\n",
      "          25       0.72      0.91      0.81        23\n",
      "          26       1.00      0.88      0.93         8\n",
      "          27       1.00      0.92      0.96        13\n",
      "          28       1.00      1.00      1.00         7\n",
      "          29       0.82      1.00      0.90         9\n",
      "          30       0.89      1.00      0.94         8\n",
      "          31       1.00      1.00      1.00         3\n",
      "          32       1.00      1.00      1.00         5\n",
      "          33       1.00      1.00      1.00         2\n",
      "          34       0.67      1.00      0.80         2\n",
      "\n",
      "   micro avg       0.92      0.92      0.92       594\n",
      "   macro avg       0.92      0.92      0.91       594\n",
      "weighted avg       0.92      0.92      0.91       594\n",
      "\n"
     ]
    }
   ],
   "source": [
    "from sklearn import metrics\n",
    "y_expect = y_test\n",
    "y_pred = knn.predict(X_test)\n",
    "print(metrics.classification_report(y_expect, y_pred))"
   ]
  },
  {
   "cell_type": "markdown",
   "metadata": {},
   "source": [
    "Recall is a measure of model's completeness. Of all the points, 92 % of the point where relevant.\n",
    "The precision is also high. We can there for assume this model to be fairly well. "
   ]
  },
  {
   "cell_type": "markdown",
   "metadata": {},
   "source": [
    "## Step 5: Modifying the Classification\n",
    "\n",
    "[[ go back to the top ]](#Table-of-contents)\n",
    "\n",
    "To test if we are able to find a better predictor, we can introduce Decision Tree, bagging, Random forest, Voting classifier and grid search. "
   ]
  },
  {
   "cell_type": "code",
   "execution_count": 185,
   "metadata": {},
   "outputs": [
    {
     "name": "stdout",
     "output_type": "stream",
     "text": [
      "Decision Tree accuracy: 0.8956228956228957\n"
     ]
    }
   ],
   "source": [
    "from sklearn.tree import DecisionTreeClassifier\n",
    "from sklearn.metrics import accuracy_score\n",
    "tree_clf = DecisionTreeClassifier(random_state=42)\n",
    "tree_clf.fit(X_train, y_train)\n",
    "\n",
    "y_pred = tree_clf.predict(X_test)\n",
    "\n",
    "print('Decision Tree accuracy:', accuracy_score(y_test, y_pred))"
   ]
  },
  {
   "cell_type": "markdown",
   "metadata": {},
   "source": [
    "The score above tells us that a simple decision tree is almost as good as the K-nearest neighbour to classify the regions of Bristol. To improve this algorithm, bootstrap aggregating can be used. Bootstrap aggregating reduces variance and helps to avoid overfitting."
   ]
  },
  {
   "cell_type": "code",
   "execution_count": 199,
   "metadata": {},
   "outputs": [
    {
     "name": "stdout",
     "output_type": "stream",
     "text": [
      "Decision Tree with bootstrap aggregating accuracy: 0.9074074074074074\n"
     ]
    }
   ],
   "source": [
    "from sklearn.ensemble import BaggingClassifier\n",
    "\n",
    "bag_clf = BaggingClassifier(DecisionTreeClassifier(random_state=42), random_state=42)\n",
    "bag_clf.fit(X_train, y_train)\n",
    "\n",
    "y_pred = bag_clf.predict(X_test)\n",
    "\n",
    "print('Decision Tree with bootstrap aggregating accuracy:', accuracy_score(y_test, y_pred))"
   ]
  },
  {
   "cell_type": "markdown",
   "metadata": {},
   "source": [
    "The bootstrapping improved the percentage by a little. As a side note, boosting can by used on the training set."
   ]
  },
  {
   "cell_type": "code",
   "execution_count": 200,
   "metadata": {},
   "outputs": [
    {
     "name": "stderr",
     "output_type": "stream",
     "text": [
      "/anaconda3/lib/python3.6/site-packages/sklearn/model_selection/_split.py:652: Warning: The least populated class in y has only 3 members, which is too few. The minimum number of members in any class cannot be less than n_splits=5.\n",
      "  % (min_groups, self.n_splits)), Warning)\n"
     ]
    },
    {
     "name": "stdout",
     "output_type": "stream",
     "text": [
      "0.310614765900975\n",
      "0.18686868686868688\n"
     ]
    }
   ],
   "source": [
    "from sklearn.model_selection import cross_val_score\n",
    "from sklearn.ensemble import AdaBoostClassifier\n",
    "from sklearn.ensemble import GradientBoostingClassifier\n",
    "\n",
    "boost = AdaBoostClassifier(n_estimators=100)\n",
    "scores = cross_val_score(boost, X_train, y_train, cv=5)\n",
    "print(scores.mean())\n",
    "\n",
    "gradient_boosting = GradientBoostingClassifier(n_estimators=100, learning_rate=1.0, random_state=42).fit(X_train, y_train)\n",
    "print(gradient_boosting.score(X_test, y_test))\n"
   ]
  },
  {
   "cell_type": "markdown",
   "metadata": {},
   "source": [
    "The boosting did not perform well. Boosting is not preferable for a large number of classes. To take this further, random forest can be the next step."
   ]
  },
  {
   "cell_type": "code",
   "execution_count": 211,
   "metadata": {},
   "outputs": [
    {
     "name": "stdout",
     "output_type": "stream",
     "text": [
      "Random forrest accuracy 0.9158249158249159\n"
     ]
    }
   ],
   "source": [
    "from sklearn.ensemble import RandomForestClassifier\n",
    "\n",
    "rnd_clf = RandomForestClassifier(random_state = 42, n_estimators= 10)\n",
    "rnd_clf.fit(X_train, y_train)\n",
    "\n",
    "y_pred_rf = rnd_clf.predict(X_test)\n",
    "\n",
    "print(\"Random forest accuracy\", accuracy_score(y_test, y_pred_rf))"
   ]
  },
  {
   "cell_type": "markdown",
   "metadata": {},
   "source": [
    "A simple random forest algorithm got has improved the performance compared to the others. "
   ]
  },
  {
   "cell_type": "code",
   "execution_count": 212,
   "metadata": {},
   "outputs": [
    {
     "data": {
      "text/plain": [
       "True"
      ]
     },
     "execution_count": 212,
     "metadata": {},
     "output_type": "execute_result"
    }
   ],
   "source": [
    "knn.score(X_test,y_test) == accuracy_score(y_test, y_pred_rf)"
   ]
  },
  {
   "cell_type": "markdown",
   "metadata": {},
   "source": [
    "The code above shows us that the K-nearest neighbour and the random forest have the exact same accuracy for the given inputs and the given estimators and performance tweaks. To inhance the algorithm beyond this, voting classifiers can be introduced. This will be based on a logistic regression algorithm, Random forest and K neighbours.\n",
    "\n",
    "In the following code the weights of each classifier will be weighted from 0 to 2 in order to find the best performing weights for the dataset. We will be running 3 for loops to perform this task. "
   ]
  },
  {
   "cell_type": "code",
   "execution_count": 335,
   "metadata": {
    "scrolled": false
   },
   "outputs": [
    {
     "name": "stdout",
     "output_type": "stream",
     "text": [
      "1 0 0\n",
      "LogisticRegression 0.12962962962962962\n",
      "RandomForestClassifier 0.9158249158249159\n",
      "KNeighborsClassifier 0.9158249158249159\n",
      "VotingClassifier 0.12962962962962962\n",
      "1 0 1\n",
      "LogisticRegression 0.12962962962962962\n",
      "RandomForestClassifier 0.9158249158249159\n",
      "KNeighborsClassifier 0.9158249158249159\n",
      "VotingClassifier 0.9158249158249159\n",
      "1 0 2\n",
      "LogisticRegression 0.12962962962962962\n",
      "RandomForestClassifier 0.9158249158249159\n",
      "KNeighborsClassifier 0.9158249158249159\n",
      "VotingClassifier 0.9158249158249159\n",
      "1 1 0\n",
      "LogisticRegression 0.12962962962962962\n",
      "RandomForestClassifier 0.9158249158249159\n",
      "KNeighborsClassifier 0.9158249158249159\n",
      "VotingClassifier 0.9175084175084175\n",
      "  High accuracy with the weight 1 1 0\n",
      "1 1 1\n",
      "LogisticRegression 0.12962962962962962\n",
      "RandomForestClassifier 0.9158249158249159\n",
      "KNeighborsClassifier 0.9158249158249159\n",
      "VotingClassifier 0.9158249158249159\n",
      "1 1 2\n",
      "LogisticRegression 0.12962962962962962\n",
      "RandomForestClassifier 0.9158249158249159\n",
      "KNeighborsClassifier 0.9158249158249159\n",
      "VotingClassifier 0.9158249158249159\n",
      "1 2 0\n",
      "LogisticRegression 0.12962962962962962\n",
      "RandomForestClassifier 0.9158249158249159\n",
      "KNeighborsClassifier 0.9158249158249159\n",
      "VotingClassifier 0.9175084175084175\n",
      "  High accuracy with the weight 1 2 0\n",
      "1 2 1\n",
      "LogisticRegression 0.12962962962962962\n",
      "RandomForestClassifier 0.9158249158249159\n",
      "KNeighborsClassifier 0.9158249158249159\n",
      "VotingClassifier 0.9242424242424242\n",
      "  High accuracy with the weight 1 2 1\n",
      "1 2 2\n",
      "LogisticRegression 0.12962962962962962\n",
      "RandomForestClassifier 0.9158249158249159\n",
      "KNeighborsClassifier 0.9158249158249159\n",
      "VotingClassifier 0.9158249158249159\n",
      "1 0 0\n",
      "LogisticRegression 0.12962962962962962\n",
      "RandomForestClassifier 0.9158249158249159\n",
      "KNeighborsClassifier 0.9158249158249159\n",
      "VotingClassifier 0.12962962962962962\n",
      "1 0 1\n",
      "LogisticRegression 0.12962962962962962\n",
      "RandomForestClassifier 0.9158249158249159\n",
      "KNeighborsClassifier 0.9158249158249159\n",
      "VotingClassifier 0.9158249158249159\n",
      "1 0 2\n",
      "LogisticRegression 0.12962962962962962\n",
      "RandomForestClassifier 0.9158249158249159\n",
      "KNeighborsClassifier 0.9158249158249159\n",
      "VotingClassifier 0.9158249158249159\n",
      "1 1 0\n",
      "LogisticRegression 0.12962962962962962\n",
      "RandomForestClassifier 0.9158249158249159\n",
      "KNeighborsClassifier 0.9158249158249159\n",
      "VotingClassifier 0.9175084175084175\n",
      "  High accuracy with the weight 1 1 0\n",
      "1 1 1\n",
      "LogisticRegression 0.12962962962962962\n",
      "RandomForestClassifier 0.9158249158249159\n",
      "KNeighborsClassifier 0.9158249158249159\n",
      "VotingClassifier 0.9158249158249159\n",
      "1 1 2\n",
      "LogisticRegression 0.12962962962962962\n",
      "RandomForestClassifier 0.9158249158249159\n",
      "KNeighborsClassifier 0.9158249158249159\n",
      "VotingClassifier 0.9158249158249159\n",
      "1 2 0\n",
      "LogisticRegression 0.12962962962962962\n",
      "RandomForestClassifier 0.9158249158249159\n",
      "KNeighborsClassifier 0.9158249158249159\n",
      "VotingClassifier 0.9175084175084175\n",
      "  High accuracy with the weight 1 2 0\n",
      "1 2 1\n",
      "LogisticRegression 0.12962962962962962\n",
      "RandomForestClassifier 0.9158249158249159\n",
      "KNeighborsClassifier 0.9158249158249159\n",
      "VotingClassifier 0.9242424242424242\n",
      "  High accuracy with the weight 1 2 1\n",
      "1 2 2\n",
      "LogisticRegression 0.12962962962962962\n",
      "RandomForestClassifier 0.9158249158249159\n",
      "KNeighborsClassifier 0.9158249158249159\n",
      "VotingClassifier 0.9158249158249159\n",
      "2 0 0\n",
      "LogisticRegression 0.12962962962962962\n",
      "RandomForestClassifier 0.9158249158249159\n",
      "KNeighborsClassifier 0.9158249158249159\n",
      "VotingClassifier 0.12962962962962962\n",
      "2 0 1\n",
      "LogisticRegression 0.12962962962962962\n",
      "RandomForestClassifier 0.9158249158249159\n",
      "KNeighborsClassifier 0.9158249158249159\n",
      "VotingClassifier 0.9158249158249159\n",
      "2 0 2\n",
      "LogisticRegression 0.12962962962962962\n",
      "RandomForestClassifier 0.9158249158249159\n",
      "KNeighborsClassifier 0.9158249158249159\n",
      "VotingClassifier 0.9158249158249159\n",
      "2 1 0\n",
      "LogisticRegression 0.12962962962962962\n",
      "RandomForestClassifier 0.9158249158249159\n",
      "KNeighborsClassifier 0.9158249158249159\n",
      "VotingClassifier 0.9175084175084175\n",
      "  High accuracy with the weight 2 1 0\n",
      "2 1 1\n",
      "LogisticRegression 0.12962962962962962\n",
      "RandomForestClassifier 0.9158249158249159\n",
      "KNeighborsClassifier 0.9158249158249159\n",
      "VotingClassifier 0.9158249158249159\n",
      "2 1 2\n",
      "LogisticRegression 0.12962962962962962\n",
      "RandomForestClassifier 0.9158249158249159\n",
      "KNeighborsClassifier 0.9158249158249159\n",
      "VotingClassifier 0.9158249158249159\n",
      "2 2 0\n",
      "LogisticRegression 0.12962962962962962\n",
      "RandomForestClassifier 0.9158249158249159\n",
      "KNeighborsClassifier 0.9158249158249159\n",
      "VotingClassifier 0.9175084175084175\n",
      "  High accuracy with the weight 2 2 0\n",
      "2 2 1\n",
      "LogisticRegression 0.12962962962962962\n",
      "RandomForestClassifier 0.9158249158249159\n",
      "KNeighborsClassifier 0.9158249158249159\n",
      "VotingClassifier 0.9225589225589226\n",
      "  High accuracy with the weight 2 2 1\n",
      "2 2 2\n",
      "LogisticRegression 0.12962962962962962\n",
      "RandomForestClassifier 0.9158249158249159\n",
      "KNeighborsClassifier 0.9158249158249159\n",
      "VotingClassifier 0.9158249158249159\n",
      "----------------------------------\n",
      "The top weights are: [1, 2, 1]\n",
      "with a accuracy of: 0.9242424242424242\n"
     ]
    }
   ],
   "source": [
    "import warnings\n",
    "warnings.filterwarnings('ignore')\n",
    "from sklearn.ensemble import VotingClassifier\n",
    "from sklearn.linear_model import LogisticRegression\n",
    "\n",
    "\n",
    "log_clf = LogisticRegression(random_state=42)\n",
    "rnd_clf = RandomForestClassifier(random_state=42,)\n",
    "knn_clf=KNeighborsClassifier(n_neighbors=1)\n",
    "\n",
    "maximum = 0\n",
    "weights_list= []\n",
    "for i in range(0,3):\n",
    "    for j in range(0,3):\n",
    "        for k in range(0,3):\n",
    "            if (i + j + k) == 0: i = 1\n",
    "            voting_clf = VotingClassifier(estimators=[('lr', log_clf), ('rf', rnd_clf), ('knn', knn_clf)],\n",
    "                              voting='soft', weights = [i,j,k])\n",
    "            voting_clf.fit(X_train, y_train)\n",
    "            print(i,j,k)\n",
    "            for clf in (log_clf, rnd_clf, knn_clf, voting_clf):\n",
    "                clf.fit(X_train, y_train)\n",
    "                y_pred = clf.predict(X_test)\n",
    "                print(clf.__class__.__name__, accuracy_score(y_test, y_pred))\n",
    "                \n",
    "                if accuracy_score(y_test, y_pred) > accuracy_score(y_test, y_pred_rf):\n",
    "                    print(\"  High accuracy with the weight\", i, j,k)\n",
    "\n",
    "                    if accuracy_score(y_test, y_pred) > maximum:\n",
    "                        maximum = accuracy_score(y_test, y_pred)\n",
    "                        weights_list = [i,j,k]\n",
    "print(\"----------------------------------\")                        \n",
    "print(\"The top weights are:\", weights_list)\n",
    "print(\"with a accuracy of:\", maximum)"
   ]
  },
  {
   "cell_type": "markdown",
   "metadata": {},
   "source": [
    "As the code above illustrates, the best accuracy is given by weighting the Random forest classifier twice as much as the other. However, these changes might not be the case if another sample was used. Further, Grid Search can be used to optimize some of the features of the algorithms."
   ]
  },
  {
   "cell_type": "code",
   "execution_count": 364,
   "metadata": {},
   "outputs": [
    {
     "name": "stdout",
     "output_type": "stream",
     "text": [
      "{'knn__n_neighbors': 1, 'lr__C': 1.0, 'rf__max_features': 'auto', 'rf__max_leaf_nodes': 500, 'rf__n_estimators': 500, 'rf__n_jobs': -5}\n",
      "--- 412.7943661212921 seconds ---\n"
     ]
    }
   ],
   "source": [
    "import time\n",
    "start_time = time.time()\n",
    "\n",
    "from sklearn.model_selection import GridSearchCV\n",
    "\n",
    "voting_clf = VotingClassifier(estimators=[('lr', log_clf), ('rf', rnd_clf), ('knn', knn_clf)],\n",
    "                              voting='soft', weights = [1,2,1])\n",
    "\n",
    "eclf = voting_clf\n",
    "params = {'lr__C': [1.0, 100.0], 'rf__max_leaf_nodes': [20, 500], 'rf__n_estimators': [1,500], \n",
    "          'rf__n_jobs':[-5,10], 'rf__max_features': ['auto', 'sqrt', 'log2'], 'knn__n_neighbors':[1,50]}\n",
    "\n",
    "grid = GridSearchCV(estimator=eclf, param_grid=params, cv=5)\n",
    "grid = grid.fit(X_train, y_train)\n",
    "print(grid.best_params_)\n",
    "print(\"--- %s seconds ---\" % (time.time() - start_time))"
   ]
  },
  {
   "cell_type": "code",
   "execution_count": 394,
   "metadata": {},
   "outputs": [
    {
     "name": "stdout",
     "output_type": "stream",
     "text": [
      "LogisticRegression 0.12962962962962962\n",
      "RandomForestClassifier 0.9276094276094277\n",
      "KNeighborsClassifier 0.9158249158249159\n",
      "VotingClassifier 0.9191919191919192\n"
     ]
    }
   ],
   "source": [
    "log_clf = LogisticRegression(random_state=42, C =1.0)\n",
    "rnd_clf = RandomForestClassifier(random_state=42, n_estimators=500, max_leaf_nodes=500, n_jobs=-5, \n",
    "                                 max_features = 'auto')\n",
    "\n",
    "knn_clf=KNeighborsClassifier(n_neighbors=1)\n",
    "\n",
    "voting_clf = VotingClassifier(estimators=[('lr', log_clf), ('rf', rnd_clf), ('knn', knn_clf)],\n",
    "                              voting='soft', weights = [1,2,1])\n",
    "\n",
    "for clf in (log_clf, rnd_clf, knn_clf, voting_clf):\n",
    "    clf.fit(X_train, y_train)\n",
    "    y_pred = clf.predict(X_test)\n",
    "    print(clf.__class__.__name__, accuracy_score(y_test, y_pred))"
   ]
  },
  {
   "cell_type": "markdown",
   "metadata": {},
   "source": [
    "The Voting classifier did not increase. The weights must be off."
   ]
  },
  {
   "cell_type": "code",
   "execution_count": 393,
   "metadata": {},
   "outputs": [
    {
     "name": "stdout",
     "output_type": "stream",
     "text": [
      "0 1 0\n",
      "LogisticRegression 0.12962962962962962\n",
      "RandomForestClassifier 0.9276094276094277\n",
      "  High accuracy with the weight 0 1 0\n",
      "KNeighborsClassifier 0.9158249158249159\n",
      "VotingClassifier 0.9276094276094277\n",
      "  High accuracy with the weight 0 1 0\n",
      "0 1 1\n",
      "LogisticRegression 0.12962962962962962\n",
      "RandomForestClassifier 0.9276094276094277\n",
      "  High accuracy with the weight 0 1 1\n",
      "KNeighborsClassifier 0.9158249158249159\n",
      "VotingClassifier 0.9158249158249159\n",
      "0 1 2\n",
      "LogisticRegression 0.12962962962962962\n",
      "RandomForestClassifier 0.9276094276094277\n",
      "  High accuracy with the weight 0 1 2\n",
      "KNeighborsClassifier 0.9158249158249159\n",
      "VotingClassifier 0.9158249158249159\n",
      "0 1 0\n",
      "LogisticRegression 0.12962962962962962\n",
      "RandomForestClassifier 0.9276094276094277\n",
      "  High accuracy with the weight 0 1 0\n",
      "KNeighborsClassifier 0.9158249158249159\n",
      "VotingClassifier 0.9276094276094277\n",
      "  High accuracy with the weight 0 1 0\n",
      "0 1 1\n",
      "LogisticRegression 0.12962962962962962\n",
      "RandomForestClassifier 0.9276094276094277\n",
      "  High accuracy with the weight 0 1 1\n",
      "KNeighborsClassifier 0.9158249158249159\n",
      "VotingClassifier 0.9158249158249159\n",
      "0 1 2\n",
      "LogisticRegression 0.12962962962962962\n",
      "RandomForestClassifier 0.9276094276094277\n",
      "  High accuracy with the weight 0 1 2\n",
      "KNeighborsClassifier 0.9158249158249159\n",
      "VotingClassifier 0.9158249158249159\n",
      "0 2 0\n",
      "LogisticRegression 0.12962962962962962\n",
      "RandomForestClassifier 0.9276094276094277\n",
      "  High accuracy with the weight 0 2 0\n",
      "KNeighborsClassifier 0.9158249158249159\n",
      "VotingClassifier 0.9276094276094277\n",
      "  High accuracy with the weight 0 2 0\n",
      "0 2 1\n",
      "LogisticRegression 0.12962962962962962\n",
      "RandomForestClassifier 0.9276094276094277\n",
      "  High accuracy with the weight 0 2 1\n",
      "KNeighborsClassifier 0.9158249158249159\n",
      "VotingClassifier 0.9191919191919192\n",
      "  High accuracy with the weight 0 2 1\n",
      "0 2 2\n",
      "LogisticRegression 0.12962962962962962\n",
      "RandomForestClassifier 0.9276094276094277\n",
      "  High accuracy with the weight 0 2 2\n",
      "KNeighborsClassifier 0.9158249158249159\n",
      "VotingClassifier 0.9158249158249159\n",
      "1 0 0\n",
      "LogisticRegression 0.12962962962962962\n",
      "RandomForestClassifier 0.9276094276094277\n",
      "  High accuracy with the weight 1 0 0\n",
      "KNeighborsClassifier 0.9158249158249159\n",
      "VotingClassifier 0.12962962962962962\n",
      "1 0 1\n",
      "LogisticRegression 0.12962962962962962\n",
      "RandomForestClassifier 0.9276094276094277\n",
      "  High accuracy with the weight 1 0 1\n",
      "KNeighborsClassifier 0.9158249158249159\n",
      "VotingClassifier 0.9158249158249159\n",
      "1 0 2\n",
      "LogisticRegression 0.12962962962962962\n",
      "RandomForestClassifier 0.9276094276094277\n",
      "  High accuracy with the weight 1 0 2\n",
      "KNeighborsClassifier 0.9158249158249159\n",
      "VotingClassifier 0.9158249158249159\n",
      "1 1 0\n",
      "LogisticRegression 0.12962962962962962\n",
      "RandomForestClassifier 0.9276094276094277\n",
      "  High accuracy with the weight 1 1 0\n",
      "KNeighborsClassifier 0.9158249158249159\n",
      "VotingClassifier 0.9259259259259259\n",
      "  High accuracy with the weight 1 1 0\n",
      "1 1 1\n",
      "LogisticRegression 0.12962962962962962\n",
      "RandomForestClassifier 0.9276094276094277\n",
      "  High accuracy with the weight 1 1 1\n",
      "KNeighborsClassifier 0.9158249158249159\n",
      "VotingClassifier 0.9158249158249159\n",
      "1 1 2\n",
      "LogisticRegression 0.12962962962962962\n",
      "RandomForestClassifier 0.9276094276094277\n",
      "  High accuracy with the weight 1 1 2\n",
      "KNeighborsClassifier 0.9158249158249159\n",
      "VotingClassifier 0.9158249158249159\n",
      "1 2 0\n",
      "LogisticRegression 0.12962962962962962\n",
      "RandomForestClassifier 0.9276094276094277\n",
      "  High accuracy with the weight 1 2 0\n",
      "KNeighborsClassifier 0.9158249158249159\n",
      "VotingClassifier 0.9276094276094277\n",
      "  High accuracy with the weight 1 2 0\n",
      "1 2 1\n",
      "LogisticRegression 0.12962962962962962\n",
      "RandomForestClassifier 0.9276094276094277\n",
      "  High accuracy with the weight 1 2 1\n",
      "KNeighborsClassifier 0.9158249158249159\n",
      "VotingClassifier 0.9191919191919192\n",
      "  High accuracy with the weight 1 2 1\n",
      "1 2 2\n",
      "LogisticRegression 0.12962962962962962\n",
      "RandomForestClassifier 0.9276094276094277\n",
      "  High accuracy with the weight 1 2 2\n",
      "KNeighborsClassifier 0.9158249158249159\n",
      "VotingClassifier 0.9158249158249159\n",
      "2 0 0\n",
      "LogisticRegression 0.12962962962962962\n",
      "RandomForestClassifier 0.9276094276094277\n",
      "  High accuracy with the weight 2 0 0\n",
      "KNeighborsClassifier 0.9158249158249159\n",
      "VotingClassifier 0.12962962962962962\n",
      "2 0 1\n",
      "LogisticRegression 0.12962962962962962\n",
      "RandomForestClassifier 0.9276094276094277\n",
      "  High accuracy with the weight 2 0 1\n",
      "KNeighborsClassifier 0.9158249158249159\n",
      "VotingClassifier 0.9158249158249159\n",
      "2 0 2\n",
      "LogisticRegression 0.12962962962962962\n",
      "RandomForestClassifier 0.9276094276094277\n",
      "  High accuracy with the weight 2 0 2\n",
      "KNeighborsClassifier 0.9158249158249159\n",
      "VotingClassifier 0.9158249158249159\n",
      "2 1 0\n",
      "LogisticRegression 0.12962962962962962\n",
      "RandomForestClassifier 0.9276094276094277\n",
      "  High accuracy with the weight 2 1 0\n",
      "KNeighborsClassifier 0.9158249158249159\n",
      "VotingClassifier 0.9225589225589226\n",
      "  High accuracy with the weight 2 1 0\n",
      "2 1 1\n",
      "LogisticRegression 0.12962962962962962\n",
      "RandomForestClassifier 0.9276094276094277\n",
      "  High accuracy with the weight 2 1 1\n",
      "KNeighborsClassifier 0.9158249158249159\n",
      "VotingClassifier 0.9158249158249159\n",
      "2 1 2\n",
      "LogisticRegression 0.12962962962962962\n",
      "RandomForestClassifier 0.9276094276094277\n",
      "  High accuracy with the weight 2 1 2\n",
      "KNeighborsClassifier 0.9158249158249159\n",
      "VotingClassifier 0.9158249158249159\n",
      "2 2 0\n",
      "LogisticRegression 0.12962962962962962\n",
      "RandomForestClassifier 0.9276094276094277\n",
      "  High accuracy with the weight 2 2 0\n",
      "KNeighborsClassifier 0.9158249158249159\n",
      "VotingClassifier 0.9259259259259259\n",
      "  High accuracy with the weight 2 2 0\n",
      "2 2 1\n",
      "LogisticRegression 0.12962962962962962\n",
      "RandomForestClassifier 0.9276094276094277\n",
      "  High accuracy with the weight 2 2 1\n",
      "KNeighborsClassifier 0.9158249158249159\n",
      "VotingClassifier 0.9208754208754208\n",
      "  High accuracy with the weight 2 2 1\n",
      "2 2 2\n",
      "LogisticRegression 0.12962962962962962\n",
      "RandomForestClassifier 0.9276094276094277\n",
      "  High accuracy with the weight 2 2 2\n",
      "KNeighborsClassifier 0.9158249158249159\n",
      "VotingClassifier 0.9158249158249159\n",
      "----------------------------------\n",
      "The top weights are: [0, 1, 0]\n",
      "with a accuracy of: 0.9276094276094277\n"
     ]
    }
   ],
   "source": [
    "log_clf = LogisticRegression(random_state=42, C =1.0)\n",
    "rnd_clf = RandomForestClassifier(random_state=42, n_estimators=500, max_leaf_nodes=500, n_jobs=-5, \n",
    "                                 max_features = 'auto')\n",
    "\n",
    "knn_clf=KNeighborsClassifier(n_neighbors=1)\n",
    "\n",
    "\n",
    "maximum = 0\n",
    "weights_list= []\n",
    "for i in range(0,3):\n",
    "    for j in range(0,3):\n",
    "        for k in range(0,3):\n",
    "            if (i + j + k) == 0: j = 1\n",
    "            voting_clf = VotingClassifier(estimators=[('lr', log_clf), ('rf', rnd_clf), ('knn', knn_clf)],\n",
    "                              voting='soft', weights = [i,j,k])\n",
    "            voting_clf.fit(X_train, y_train)\n",
    "            print(i,j,k)\n",
    "            for clf in (log_clf, rnd_clf, knn_clf, voting_clf):\n",
    "                clf.fit(X_train, y_train)\n",
    "                y_pred = clf.predict(X_test)\n",
    "                print(clf.__class__.__name__, accuracy_score(y_test, y_pred))\n",
    "                \n",
    "                if accuracy_score(y_test, y_pred) > accuracy_score(y_test, y_pred_rf):\n",
    "                    print(\"  High accuracy with the weight\", i, j,k)\n",
    "\n",
    "                    if accuracy_score(y_test, y_pred) > maximum:\n",
    "                        maximum = accuracy_score(y_test, y_pred)\n",
    "                        weights_list = [i,j,k]\n",
    "print(\"----------------------------------\")                        \n",
    "print(\"The top weights are:\", weights_list)\n",
    "print(\"with a accuracy of:\", maximum)"
   ]
  },
  {
   "cell_type": "markdown",
   "metadata": {},
   "source": [
    "The output above shows the prefered weights for the different algorithms. The random forest got all the weight."
   ]
  },
  {
   "cell_type": "code",
   "execution_count": 395,
   "metadata": {},
   "outputs": [
    {
     "name": "stdout",
     "output_type": "stream",
     "text": [
      "LogisticRegression 0.12962962962962962\n",
      "RandomForestClassifier 0.9276094276094277\n",
      "KNeighborsClassifier 0.9158249158249159\n",
      "VotingClassifier 0.9276094276094277\n"
     ]
    }
   ],
   "source": [
    "log_clf = LogisticRegression(random_state=42, C =1.0)\n",
    "rnd_clf = RandomForestClassifier(random_state=42, n_estimators=500, max_leaf_nodes=500, n_jobs=-5, \n",
    "                                 max_features = 'auto')\n",
    "\n",
    "knn_clf=KNeighborsClassifier(n_neighbors=1)\n",
    "\n",
    "voting_clf = VotingClassifier(estimators=[('lr', log_clf), ('rf', rnd_clf), ('knn', knn_clf)],\n",
    "                              voting='soft', weights = [0,1,0])\n",
    "\n",
    "\n",
    "\n",
    "for clf in (log_clf, rnd_clf, knn_clf, voting_clf):\n",
    "    clf.fit(X_train, y_train)\n",
    "    y_pred = clf.predict(X_test)\n",
    "    print(clf.__class__.__name__, accuracy_score(y_test, y_pred))"
   ]
  },
  {
   "cell_type": "markdown",
   "metadata": {},
   "source": [
    "From the output above we can see that the classifier has been improved from what it normaly was. However, the modification 0.915 to 0.927 is not significant. \n",
    "\n",
    "More data would probably increase the accuracy. "
   ]
  },
  {
   "cell_type": "markdown",
   "metadata": {},
   "source": [
    "## Step 1: Checking the data | Multiclass Binary Classification\n",
    "\n",
    "[[ go back to the top ]](#Table-of-contents)\n",
    "\n",
    "This section will focus on the reviews from the tenants. The goal is to make a model that can classify if a person is a professional lister or an amateur lister. A professional  lister will in this report be defined as a person that has more than 1 listing. The hypothesis  is that the professionals got better scores.\n",
    "\n",
    "The data that will be used for this section is the review scores and calculated host listing count."
   ]
  },
  {
   "cell_type": "code",
   "execution_count": 404,
   "metadata": {},
   "outputs": [
    {
     "data": {
      "text/html": [
       "<div>\n",
       "<style scoped>\n",
       "    .dataframe tbody tr th:only-of-type {\n",
       "        vertical-align: middle;\n",
       "    }\n",
       "\n",
       "    .dataframe tbody tr th {\n",
       "        vertical-align: top;\n",
       "    }\n",
       "\n",
       "    .dataframe thead th {\n",
       "        text-align: right;\n",
       "    }\n",
       "</style>\n",
       "<table border=\"1\" class=\"dataframe\">\n",
       "  <thead>\n",
       "    <tr style=\"text-align: right;\">\n",
       "      <th></th>\n",
       "      <th>review_scores_rating</th>\n",
       "      <th>review_scores_accuracy</th>\n",
       "      <th>review_scores_cleanliness</th>\n",
       "      <th>review_scores_checkin</th>\n",
       "      <th>review_scores_communication</th>\n",
       "      <th>review_scores_location</th>\n",
       "      <th>review_scores_value</th>\n",
       "      <th>calculated_host_listings_count</th>\n",
       "    </tr>\n",
       "  </thead>\n",
       "  <tbody>\n",
       "    <tr>\n",
       "      <th>0</th>\n",
       "      <td>96</td>\n",
       "      <td>10</td>\n",
       "      <td>9</td>\n",
       "      <td>10</td>\n",
       "      <td>10.0</td>\n",
       "      <td>10.0</td>\n",
       "      <td>10.0</td>\n",
       "      <td>5</td>\n",
       "    </tr>\n",
       "    <tr>\n",
       "      <th>1</th>\n",
       "      <td>99</td>\n",
       "      <td>10</td>\n",
       "      <td>10</td>\n",
       "      <td>10</td>\n",
       "      <td>10.0</td>\n",
       "      <td>10.0</td>\n",
       "      <td>10.0</td>\n",
       "      <td>1</td>\n",
       "    </tr>\n",
       "    <tr>\n",
       "      <th>2</th>\n",
       "      <td>91</td>\n",
       "      <td>9</td>\n",
       "      <td>8</td>\n",
       "      <td>9</td>\n",
       "      <td>10.0</td>\n",
       "      <td>9.0</td>\n",
       "      <td>9.0</td>\n",
       "      <td>2</td>\n",
       "    </tr>\n",
       "    <tr>\n",
       "      <th>3</th>\n",
       "      <td>95</td>\n",
       "      <td>9</td>\n",
       "      <td>9</td>\n",
       "      <td>10</td>\n",
       "      <td>10.0</td>\n",
       "      <td>9.0</td>\n",
       "      <td>9.0</td>\n",
       "      <td>2</td>\n",
       "    </tr>\n",
       "    <tr>\n",
       "      <th>4</th>\n",
       "      <td>94</td>\n",
       "      <td>10</td>\n",
       "      <td>9</td>\n",
       "      <td>10</td>\n",
       "      <td>10.0</td>\n",
       "      <td>9.0</td>\n",
       "      <td>9.0</td>\n",
       "      <td>1</td>\n",
       "    </tr>\n",
       "    <tr>\n",
       "      <th>5</th>\n",
       "      <td>93</td>\n",
       "      <td>10</td>\n",
       "      <td>10</td>\n",
       "      <td>10</td>\n",
       "      <td>10.0</td>\n",
       "      <td>10.0</td>\n",
       "      <td>9.0</td>\n",
       "      <td>2</td>\n",
       "    </tr>\n",
       "    <tr>\n",
       "      <th>6</th>\n",
       "      <td>94</td>\n",
       "      <td>9</td>\n",
       "      <td>9</td>\n",
       "      <td>10</td>\n",
       "      <td>10.0</td>\n",
       "      <td>9.0</td>\n",
       "      <td>9.0</td>\n",
       "      <td>2</td>\n",
       "    </tr>\n",
       "    <tr>\n",
       "      <th>7</th>\n",
       "      <td>98</td>\n",
       "      <td>10</td>\n",
       "      <td>9</td>\n",
       "      <td>10</td>\n",
       "      <td>10.0</td>\n",
       "      <td>9.0</td>\n",
       "      <td>9.0</td>\n",
       "      <td>4</td>\n",
       "    </tr>\n",
       "    <tr>\n",
       "      <th>8</th>\n",
       "      <td>96</td>\n",
       "      <td>10</td>\n",
       "      <td>10</td>\n",
       "      <td>10</td>\n",
       "      <td>10.0</td>\n",
       "      <td>9.0</td>\n",
       "      <td>9.0</td>\n",
       "      <td>5</td>\n",
       "    </tr>\n",
       "    <tr>\n",
       "      <th>9</th>\n",
       "      <td>93</td>\n",
       "      <td>10</td>\n",
       "      <td>10</td>\n",
       "      <td>10</td>\n",
       "      <td>10.0</td>\n",
       "      <td>9.0</td>\n",
       "      <td>9.0</td>\n",
       "      <td>5</td>\n",
       "    </tr>\n",
       "    <tr>\n",
       "      <th>10</th>\n",
       "      <td>99</td>\n",
       "      <td>10</td>\n",
       "      <td>10</td>\n",
       "      <td>10</td>\n",
       "      <td>10.0</td>\n",
       "      <td>10.0</td>\n",
       "      <td>10.0</td>\n",
       "      <td>2</td>\n",
       "    </tr>\n",
       "    <tr>\n",
       "      <th>11</th>\n",
       "      <td>91</td>\n",
       "      <td>9</td>\n",
       "      <td>9</td>\n",
       "      <td>10</td>\n",
       "      <td>10.0</td>\n",
       "      <td>9.0</td>\n",
       "      <td>9.0</td>\n",
       "      <td>2</td>\n",
       "    </tr>\n",
       "    <tr>\n",
       "      <th>12</th>\n",
       "      <td>86</td>\n",
       "      <td>8</td>\n",
       "      <td>9</td>\n",
       "      <td>9</td>\n",
       "      <td>9.0</td>\n",
       "      <td>7.0</td>\n",
       "      <td>9.0</td>\n",
       "      <td>2</td>\n",
       "    </tr>\n",
       "    <tr>\n",
       "      <th>13</th>\n",
       "      <td>100</td>\n",
       "      <td>10</td>\n",
       "      <td>10</td>\n",
       "      <td>10</td>\n",
       "      <td>10.0</td>\n",
       "      <td>10.0</td>\n",
       "      <td>10.0</td>\n",
       "      <td>2</td>\n",
       "    </tr>\n",
       "    <tr>\n",
       "      <th>14</th>\n",
       "      <td>95</td>\n",
       "      <td>10</td>\n",
       "      <td>10</td>\n",
       "      <td>10</td>\n",
       "      <td>10.0</td>\n",
       "      <td>9.0</td>\n",
       "      <td>10.0</td>\n",
       "      <td>2</td>\n",
       "    </tr>\n",
       "    <tr>\n",
       "      <th>15</th>\n",
       "      <td>98</td>\n",
       "      <td>10</td>\n",
       "      <td>10</td>\n",
       "      <td>10</td>\n",
       "      <td>10.0</td>\n",
       "      <td>9.0</td>\n",
       "      <td>9.0</td>\n",
       "      <td>1</td>\n",
       "    </tr>\n",
       "    <tr>\n",
       "      <th>16</th>\n",
       "      <td>98</td>\n",
       "      <td>10</td>\n",
       "      <td>10</td>\n",
       "      <td>10</td>\n",
       "      <td>10.0</td>\n",
       "      <td>10.0</td>\n",
       "      <td>10.0</td>\n",
       "      <td>1</td>\n",
       "    </tr>\n",
       "    <tr>\n",
       "      <th>17</th>\n",
       "      <td>98</td>\n",
       "      <td>10</td>\n",
       "      <td>9</td>\n",
       "      <td>10</td>\n",
       "      <td>10.0</td>\n",
       "      <td>10.0</td>\n",
       "      <td>10.0</td>\n",
       "      <td>2</td>\n",
       "    </tr>\n",
       "    <tr>\n",
       "      <th>18</th>\n",
       "      <td>98</td>\n",
       "      <td>10</td>\n",
       "      <td>10</td>\n",
       "      <td>10</td>\n",
       "      <td>10.0</td>\n",
       "      <td>10.0</td>\n",
       "      <td>10.0</td>\n",
       "      <td>1</td>\n",
       "    </tr>\n",
       "    <tr>\n",
       "      <th>19</th>\n",
       "      <td>94</td>\n",
       "      <td>10</td>\n",
       "      <td>9</td>\n",
       "      <td>10</td>\n",
       "      <td>10.0</td>\n",
       "      <td>10.0</td>\n",
       "      <td>9.0</td>\n",
       "      <td>1</td>\n",
       "    </tr>\n",
       "    <tr>\n",
       "      <th>20</th>\n",
       "      <td>88</td>\n",
       "      <td>9</td>\n",
       "      <td>9</td>\n",
       "      <td>9</td>\n",
       "      <td>9.0</td>\n",
       "      <td>8.0</td>\n",
       "      <td>9.0</td>\n",
       "      <td>1</td>\n",
       "    </tr>\n",
       "    <tr>\n",
       "      <th>21</th>\n",
       "      <td>92</td>\n",
       "      <td>9</td>\n",
       "      <td>9</td>\n",
       "      <td>10</td>\n",
       "      <td>10.0</td>\n",
       "      <td>9.0</td>\n",
       "      <td>9.0</td>\n",
       "      <td>2</td>\n",
       "    </tr>\n",
       "    <tr>\n",
       "      <th>22</th>\n",
       "      <td>94</td>\n",
       "      <td>10</td>\n",
       "      <td>10</td>\n",
       "      <td>10</td>\n",
       "      <td>10.0</td>\n",
       "      <td>9.0</td>\n",
       "      <td>9.0</td>\n",
       "      <td>2</td>\n",
       "    </tr>\n",
       "    <tr>\n",
       "      <th>23</th>\n",
       "      <td>94</td>\n",
       "      <td>10</td>\n",
       "      <td>10</td>\n",
       "      <td>10</td>\n",
       "      <td>10.0</td>\n",
       "      <td>9.0</td>\n",
       "      <td>9.0</td>\n",
       "      <td>2</td>\n",
       "    </tr>\n",
       "    <tr>\n",
       "      <th>24</th>\n",
       "      <td>97</td>\n",
       "      <td>10</td>\n",
       "      <td>10</td>\n",
       "      <td>10</td>\n",
       "      <td>10.0</td>\n",
       "      <td>10.0</td>\n",
       "      <td>9.0</td>\n",
       "      <td>1</td>\n",
       "    </tr>\n",
       "  </tbody>\n",
       "</table>\n",
       "</div>"
      ],
      "text/plain": [
       "   review_scores_rating review_scores_accuracy review_scores_cleanliness  \\\n",
       "0                    96                     10                         9   \n",
       "1                    99                     10                        10   \n",
       "2                    91                      9                         8   \n",
       "3                    95                      9                         9   \n",
       "4                    94                     10                         9   \n",
       "5                    93                     10                        10   \n",
       "6                    94                      9                         9   \n",
       "7                    98                     10                         9   \n",
       "8                    96                     10                        10   \n",
       "9                    93                     10                        10   \n",
       "10                   99                     10                        10   \n",
       "11                   91                      9                         9   \n",
       "12                   86                      8                         9   \n",
       "13                  100                     10                        10   \n",
       "14                   95                     10                        10   \n",
       "15                   98                     10                        10   \n",
       "16                   98                     10                        10   \n",
       "17                   98                     10                         9   \n",
       "18                   98                     10                        10   \n",
       "19                   94                     10                         9   \n",
       "20                   88                      9                         9   \n",
       "21                   92                      9                         9   \n",
       "22                   94                     10                        10   \n",
       "23                   94                     10                        10   \n",
       "24                   97                     10                        10   \n",
       "\n",
       "   review_scores_checkin  review_scores_communication  review_scores_location  \\\n",
       "0                     10                         10.0                    10.0   \n",
       "1                     10                         10.0                    10.0   \n",
       "2                      9                         10.0                     9.0   \n",
       "3                     10                         10.0                     9.0   \n",
       "4                     10                         10.0                     9.0   \n",
       "5                     10                         10.0                    10.0   \n",
       "6                     10                         10.0                     9.0   \n",
       "7                     10                         10.0                     9.0   \n",
       "8                     10                         10.0                     9.0   \n",
       "9                     10                         10.0                     9.0   \n",
       "10                    10                         10.0                    10.0   \n",
       "11                    10                         10.0                     9.0   \n",
       "12                     9                          9.0                     7.0   \n",
       "13                    10                         10.0                    10.0   \n",
       "14                    10                         10.0                     9.0   \n",
       "15                    10                         10.0                     9.0   \n",
       "16                    10                         10.0                    10.0   \n",
       "17                    10                         10.0                    10.0   \n",
       "18                    10                         10.0                    10.0   \n",
       "19                    10                         10.0                    10.0   \n",
       "20                     9                          9.0                     8.0   \n",
       "21                    10                         10.0                     9.0   \n",
       "22                    10                         10.0                     9.0   \n",
       "23                    10                         10.0                     9.0   \n",
       "24                    10                         10.0                    10.0   \n",
       "\n",
       "    review_scores_value  calculated_host_listings_count  \n",
       "0                  10.0                               5  \n",
       "1                  10.0                               1  \n",
       "2                   9.0                               2  \n",
       "3                   9.0                               2  \n",
       "4                   9.0                               1  \n",
       "5                   9.0                               2  \n",
       "6                   9.0                               2  \n",
       "7                   9.0                               4  \n",
       "8                   9.0                               5  \n",
       "9                   9.0                               5  \n",
       "10                 10.0                               2  \n",
       "11                  9.0                               2  \n",
       "12                  9.0                               2  \n",
       "13                 10.0                               2  \n",
       "14                 10.0                               2  \n",
       "15                  9.0                               1  \n",
       "16                 10.0                               1  \n",
       "17                 10.0                               2  \n",
       "18                 10.0                               1  \n",
       "19                  9.0                               1  \n",
       "20                  9.0                               1  \n",
       "21                  9.0                               2  \n",
       "22                  9.0                               2  \n",
       "23                  9.0                               2  \n",
       "24                  9.0                               1  "
      ]
     },
     "execution_count": 404,
     "metadata": {},
     "output_type": "execute_result"
    }
   ],
   "source": [
    "airbnb2 = airbnb[['review_scores_rating', 'review_scores_accuracy', 'review_scores_cleanliness', 'review_scores_checkin', 'review_scores_communication', 'review_scores_location', 'review_scores_value', 'calculated_host_listings_count']]\n",
    "airbnb2.head(25)"
   ]
  },
  {
   "cell_type": "markdown",
   "metadata": {},
   "source": [
    "The table above gives the impression that the review scores have a lot of high scores overall."
   ]
  },
  {
   "cell_type": "code",
   "execution_count": 405,
   "metadata": {},
   "outputs": [
    {
     "name": "stdout",
     "output_type": "stream",
     "text": [
      "<class 'pandas.core.frame.DataFrame'>\n",
      "RangeIndex: 2375 entries, 0 to 2374\n",
      "Data columns (total 8 columns):\n",
      "review_scores_rating              2039 non-null object\n",
      "review_scores_accuracy            2037 non-null object\n",
      "review_scores_cleanliness         2037 non-null object\n",
      "review_scores_checkin             2035 non-null object\n",
      "review_scores_communication       2037 non-null float64\n",
      "review_scores_location            2035 non-null float64\n",
      "review_scores_value               2035 non-null float64\n",
      "calculated_host_listings_count    2375 non-null int64\n",
      "dtypes: float64(3), int64(1), object(4)\n",
      "memory usage: 148.5+ KB\n"
     ]
    }
   ],
   "source": [
    "airbnb2.info()"
   ]
  },
  {
   "cell_type": "markdown",
   "metadata": {},
   "source": [
    "The columns have different amount of data. This could be an indicator of missing data. Some of the data is also listed as objects but should be a digit."
   ]
  },
  {
   "cell_type": "code",
   "execution_count": 407,
   "metadata": {},
   "outputs": [
    {
     "data": {
      "text/plain": [
       "review_scores_rating              336\n",
       "review_scores_accuracy            338\n",
       "review_scores_cleanliness         338\n",
       "review_scores_checkin             340\n",
       "review_scores_communication       338\n",
       "review_scores_location            340\n",
       "review_scores_value               340\n",
       "calculated_host_listings_count      0\n",
       "dtype: int64"
      ]
     },
     "execution_count": 407,
     "metadata": {},
     "output_type": "execute_result"
    }
   ],
   "source": [
    "airbnb2.isnull().sum(axis = 0)"
   ]
  },
  {
   "cell_type": "markdown",
   "metadata": {},
   "source": [
    "The table above illustrates that there are a lot of missing data. Worst case scenario are there 1 missing cell in each row. On the other hand, there could be a lot of missing data in the same rows, and this will lead to fewer loss of data points if the rows are dropped. The easiest way is to first check how many rows we miss if we decides to drop rows with missing data. "
   ]
  },
  {
   "cell_type": "code",
   "execution_count": 421,
   "metadata": {},
   "outputs": [
    {
     "name": "stdout",
     "output_type": "stream",
     "text": [
      "<class 'pandas.core.frame.DataFrame'>\n",
      "Int64Index: 2035 entries, 0 to 2349\n",
      "Data columns (total 8 columns):\n",
      "review_scores_rating              2035 non-null object\n",
      "review_scores_accuracy            2035 non-null object\n",
      "review_scores_cleanliness         2035 non-null object\n",
      "review_scores_checkin             2035 non-null object\n",
      "review_scores_communication       2035 non-null float64\n",
      "review_scores_location            2035 non-null float64\n",
      "review_scores_value               2035 non-null float64\n",
      "calculated_host_listings_count    2035 non-null int64\n",
      "dtypes: float64(3), int64(1), object(4)\n",
      "memory usage: 143.1+ KB\n"
     ]
    }
   ],
   "source": [
    "airbnb3 = airbnb2.dropna()\n",
    "airbnb3.info()"
   ]
  },
  {
   "cell_type": "markdown",
   "metadata": {},
   "source": [
    "From the table above; 340 cells got dropped. 340/2375 = 0.24 = 14%. This is a lot of columns but considering that many of the columns had 300-400 missing values means that a lot of these missing values was in the same row. For this reason, the rows with missing data will be dropped in the further analysis. \n",
    "\n",
    "The next step in the cleansing is to check for mistakes. Given that there are alot of similar data in each row, outliers can be easy to detect with the Pythons' Unique function."
   ]
  },
  {
   "cell_type": "code",
   "execution_count": 422,
   "metadata": {},
   "outputs": [
    {
     "data": {
      "text/plain": [
       "array(['96', '99', '91', '95', '94', '93', '98', '86', '100', '88', '92',\n",
       "       '97', '80', '2018-05-11', '90', '89', '85', '84', '79', '87',\n",
       "       '2018-08-30', '2018-11-03', '83', '71', '78', '2018-10-12',\n",
       "       '2018-11-11', '2018-04-07', '67', '2018-09-18', '81', '60', '40',\n",
       "       '2018-08-16', '2018-10-26', '73', '82', '70', '2018-11-05', '20',\n",
       "       '2018-02-04', '55', '2018-11-14', '75', '2018-11-10', '2',\n",
       "       '2018-09-03', '2018-09-15'], dtype=object)"
      ]
     },
     "execution_count": 422,
     "metadata": {},
     "output_type": "execute_result"
    }
   ],
   "source": [
    "airbnb3['review_scores_rating'].unique()"
   ]
  },
  {
   "cell_type": "markdown",
   "metadata": {},
   "source": [
    "From the table above, it is clear that the dataset contains a lot of mistakes. All the dates in this column does not belong here. Further, all the columns must be checked since of first column had that many errors. "
   ]
  },
  {
   "cell_type": "code",
   "execution_count": 423,
   "metadata": {},
   "outputs": [
    {
     "name": "stdout",
     "output_type": "stream",
     "text": [
      "['10' '9' '8' '97' '6' '96' '94' '100' '88' '74' '4' '99' '98' '7'\n",
      " '2018-11-12' '11' '2' '2018-11-01' '73']\n",
      "['9' '10' '8' '5' '6' '7' '2' '99' '4 days ago' '80' '4']\n",
      "['10' '9' '7' '8' '2' '6' 't' '4']\n",
      "[10.  9.  8.  4.  2.  5.  7.  6.  0.]\n",
      "[10.  9.  7.  8.  4.  0.  6.]\n",
      "[10.  9.  8.  7.  6.  2.  4.  0.]\n",
      "[ 5  1  2  4  9  3  7 11  6 10 14 12 54  8 50 13 78]\n"
     ]
    }
   ],
   "source": [
    "print(airbnb3['review_scores_accuracy'].unique())\n",
    "print(airbnb3['review_scores_cleanliness'].unique())\n",
    "print(airbnb3['review_scores_checkin'].unique())\n",
    "print(airbnb3['review_scores_communication'].unique())\n",
    "print(airbnb3['review_scores_location'].unique())\n",
    "print(airbnb3['review_scores_value'].unique())\n",
    "print(airbnb3['calculated_host_listings_count'].unique())"
   ]
  },
  {
   "cell_type": "markdown",
   "metadata": {},
   "source": [
    "From the outputs above, we can see that all errors have one thing in common, they contain non-digit characters. The errors will be replaced with NaN, then removed.    "
   ]
  },
  {
   "cell_type": "code",
   "execution_count": 424,
   "metadata": {},
   "outputs": [],
   "source": [
    "import re\n",
    "p = re.compile('\\D', re.IGNORECASE)\n",
    "airbnb3 = airbnb3.replace(p, np.nan)\n",
    "airbnb3 = airbnb3.dropna()"
   ]
  },
  {
   "cell_type": "code",
   "execution_count": 425,
   "metadata": {},
   "outputs": [
    {
     "name": "stdout",
     "output_type": "stream",
     "text": [
      "['96' '99' '91' '95' '94' '93' '98' '86' '100' '88' '92' '97' '80' '90'\n",
      " '89' '85' '84' '79' '87' '83' '71' '78' '67' '81' '60' '40' '73' '82'\n",
      " '70' '20' '55' '75']\n",
      "['10' '9' '8' '6' '4' '7' '2']\n",
      "['9' '10' '8' '5' '6' '7' '2' '4']\n",
      "['10' '9' '7' '8' '2' '6' '4']\n",
      "[10.  9.  8.  4.  2.  5.  7.  6.]\n",
      "[10.  9.  7.  8.  4.  6.]\n",
      "[10.  9.  8.  7.  6.  2.  4.]\n",
      "[ 5  1  2  4  9  3  7 11  6 10 14 12 54  8 50 13 78]\n"
     ]
    }
   ],
   "source": [
    "print(airbnb3['review_scores_rating'].unique())\n",
    "print(airbnb3['review_scores_accuracy'].unique())\n",
    "print(airbnb3['review_scores_cleanliness'].unique())\n",
    "print(airbnb3['review_scores_checkin'].unique())\n",
    "print(airbnb3['review_scores_communication'].unique())\n",
    "print(airbnb3['review_scores_location'].unique())\n",
    "print(airbnb3['review_scores_value'].unique())\n",
    "print(airbnb3['calculated_host_listings_count'].unique())\n"
   ]
  },
  {
   "cell_type": "markdown",
   "metadata": {},
   "source": [
    "The data is now cleansed for unwanted data. We can have a quick look at how many rows we are left with."
   ]
  },
  {
   "cell_type": "code",
   "execution_count": 429,
   "metadata": {},
   "outputs": [
    {
     "data": {
      "text/html": [
       "<div>\n",
       "<style scoped>\n",
       "    .dataframe tbody tr th:only-of-type {\n",
       "        vertical-align: middle;\n",
       "    }\n",
       "\n",
       "    .dataframe tbody tr th {\n",
       "        vertical-align: top;\n",
       "    }\n",
       "\n",
       "    .dataframe thead th {\n",
       "        text-align: right;\n",
       "    }\n",
       "</style>\n",
       "<table border=\"1\" class=\"dataframe\">\n",
       "  <thead>\n",
       "    <tr style=\"text-align: right;\">\n",
       "      <th></th>\n",
       "      <th>review_scores_communication</th>\n",
       "      <th>review_scores_location</th>\n",
       "      <th>review_scores_value</th>\n",
       "      <th>calculated_host_listings_count</th>\n",
       "    </tr>\n",
       "  </thead>\n",
       "  <tbody>\n",
       "    <tr>\n",
       "      <th>count</th>\n",
       "      <td>2015.000000</td>\n",
       "      <td>2015.000000</td>\n",
       "      <td>2015.000000</td>\n",
       "      <td>2015.000000</td>\n",
       "    </tr>\n",
       "    <tr>\n",
       "      <th>mean</th>\n",
       "      <td>9.838710</td>\n",
       "      <td>9.559801</td>\n",
       "      <td>9.480397</td>\n",
       "      <td>6.471464</td>\n",
       "    </tr>\n",
       "    <tr>\n",
       "      <th>std</th>\n",
       "      <td>0.533198</td>\n",
       "      <td>0.635175</td>\n",
       "      <td>0.774781</td>\n",
       "      <td>15.773284</td>\n",
       "    </tr>\n",
       "    <tr>\n",
       "      <th>min</th>\n",
       "      <td>2.000000</td>\n",
       "      <td>4.000000</td>\n",
       "      <td>2.000000</td>\n",
       "      <td>1.000000</td>\n",
       "    </tr>\n",
       "    <tr>\n",
       "      <th>25%</th>\n",
       "      <td>10.000000</td>\n",
       "      <td>9.000000</td>\n",
       "      <td>9.000000</td>\n",
       "      <td>1.000000</td>\n",
       "    </tr>\n",
       "    <tr>\n",
       "      <th>50%</th>\n",
       "      <td>10.000000</td>\n",
       "      <td>10.000000</td>\n",
       "      <td>10.000000</td>\n",
       "      <td>1.000000</td>\n",
       "    </tr>\n",
       "    <tr>\n",
       "      <th>75%</th>\n",
       "      <td>10.000000</td>\n",
       "      <td>10.000000</td>\n",
       "      <td>10.000000</td>\n",
       "      <td>3.000000</td>\n",
       "    </tr>\n",
       "    <tr>\n",
       "      <th>max</th>\n",
       "      <td>10.000000</td>\n",
       "      <td>10.000000</td>\n",
       "      <td>10.000000</td>\n",
       "      <td>78.000000</td>\n",
       "    </tr>\n",
       "  </tbody>\n",
       "</table>\n",
       "</div>"
      ],
      "text/plain": [
       "       review_scores_communication  review_scores_location  \\\n",
       "count                  2015.000000             2015.000000   \n",
       "mean                      9.838710                9.559801   \n",
       "std                       0.533198                0.635175   \n",
       "min                       2.000000                4.000000   \n",
       "25%                      10.000000                9.000000   \n",
       "50%                      10.000000               10.000000   \n",
       "75%                      10.000000               10.000000   \n",
       "max                      10.000000               10.000000   \n",
       "\n",
       "       review_scores_value  calculated_host_listings_count  \n",
       "count          2015.000000                     2015.000000  \n",
       "mean              9.480397                        6.471464  \n",
       "std               0.774781                       15.773284  \n",
       "min               2.000000                        1.000000  \n",
       "25%               9.000000                        1.000000  \n",
       "50%              10.000000                        1.000000  \n",
       "75%              10.000000                        3.000000  \n",
       "max              10.000000                       78.000000  "
      ]
     },
     "execution_count": 429,
     "metadata": {},
     "output_type": "execute_result"
    }
   ],
   "source": [
    "airbnb3.describe()"
   ]
  },
  {
   "cell_type": "markdown",
   "metadata": {},
   "source": [
    "The description above tells us that we are left with 2015 rows. It also tells us that some of the columns are not integers or floats since they are not listed. "
   ]
  },
  {
   "cell_type": "code",
   "execution_count": 432,
   "metadata": {},
   "outputs": [
    {
     "data": {
      "text/plain": [
       "review_scores_rating                int64\n",
       "review_scores_accuracy              int64\n",
       "review_scores_cleanliness           int64\n",
       "review_scores_checkin               int64\n",
       "review_scores_communication       float64\n",
       "review_scores_location            float64\n",
       "review_scores_value               float64\n",
       "calculated_host_listings_count      int64\n",
       "dtype: object"
      ]
     },
     "execution_count": 432,
     "metadata": {},
     "output_type": "execute_result"
    }
   ],
   "source": [
    "airbnb3 = airbnb3.astype({\"review_scores_rating\": int, \"review_scores_accuracy\": int, \n",
    "                          \"review_scores_cleanliness\": int, \"review_scores_checkin\": int})\n",
    "airbnb3.dtypes"
   ]
  },
  {
   "cell_type": "markdown",
   "metadata": {},
   "source": [
    "The data points in the dataset is now either integers or floats. Next step is to create a binary row that takes either the value 0 or 1. 1 represents professional listers and are defined as listers with 2 or more listings. Listers with 1 listing will be called armatures and labeled with 0."
   ]
  },
  {
   "cell_type": "code",
   "execution_count": 444,
   "metadata": {},
   "outputs": [
    {
     "name": "stdout",
     "output_type": "stream",
     "text": [
      "Amatures: 1061 listings\n",
      "Professionals: 954 listings\n"
     ]
    },
    {
     "data": {
      "text/html": [
       "<div>\n",
       "<style scoped>\n",
       "    .dataframe tbody tr th:only-of-type {\n",
       "        vertical-align: middle;\n",
       "    }\n",
       "\n",
       "    .dataframe tbody tr th {\n",
       "        vertical-align: top;\n",
       "    }\n",
       "\n",
       "    .dataframe thead th {\n",
       "        text-align: right;\n",
       "    }\n",
       "</style>\n",
       "<table border=\"1\" class=\"dataframe\">\n",
       "  <thead>\n",
       "    <tr style=\"text-align: right;\">\n",
       "      <th></th>\n",
       "      <th>review_scores_communication</th>\n",
       "      <th>review_scores_location</th>\n",
       "      <th>review_scores_value</th>\n",
       "      <th>calculated_host_listings_count</th>\n",
       "      <th>host_label</th>\n",
       "    </tr>\n",
       "  </thead>\n",
       "  <tbody>\n",
       "    <tr>\n",
       "      <th>0</th>\n",
       "      <td>10.0</td>\n",
       "      <td>10.0</td>\n",
       "      <td>10.0</td>\n",
       "      <td>5</td>\n",
       "      <td>1</td>\n",
       "    </tr>\n",
       "    <tr>\n",
       "      <th>1</th>\n",
       "      <td>10.0</td>\n",
       "      <td>10.0</td>\n",
       "      <td>10.0</td>\n",
       "      <td>1</td>\n",
       "      <td>0</td>\n",
       "    </tr>\n",
       "    <tr>\n",
       "      <th>2</th>\n",
       "      <td>10.0</td>\n",
       "      <td>9.0</td>\n",
       "      <td>9.0</td>\n",
       "      <td>2</td>\n",
       "      <td>1</td>\n",
       "    </tr>\n",
       "    <tr>\n",
       "      <th>3</th>\n",
       "      <td>10.0</td>\n",
       "      <td>9.0</td>\n",
       "      <td>9.0</td>\n",
       "      <td>2</td>\n",
       "      <td>1</td>\n",
       "    </tr>\n",
       "    <tr>\n",
       "      <th>4</th>\n",
       "      <td>10.0</td>\n",
       "      <td>9.0</td>\n",
       "      <td>9.0</td>\n",
       "      <td>1</td>\n",
       "      <td>0</td>\n",
       "    </tr>\n",
       "    <tr>\n",
       "      <th>5</th>\n",
       "      <td>10.0</td>\n",
       "      <td>10.0</td>\n",
       "      <td>9.0</td>\n",
       "      <td>2</td>\n",
       "      <td>1</td>\n",
       "    </tr>\n",
       "    <tr>\n",
       "      <th>6</th>\n",
       "      <td>10.0</td>\n",
       "      <td>9.0</td>\n",
       "      <td>9.0</td>\n",
       "      <td>2</td>\n",
       "      <td>1</td>\n",
       "    </tr>\n",
       "    <tr>\n",
       "      <th>7</th>\n",
       "      <td>10.0</td>\n",
       "      <td>9.0</td>\n",
       "      <td>9.0</td>\n",
       "      <td>4</td>\n",
       "      <td>1</td>\n",
       "    </tr>\n",
       "    <tr>\n",
       "      <th>8</th>\n",
       "      <td>10.0</td>\n",
       "      <td>9.0</td>\n",
       "      <td>9.0</td>\n",
       "      <td>5</td>\n",
       "      <td>1</td>\n",
       "    </tr>\n",
       "    <tr>\n",
       "      <th>9</th>\n",
       "      <td>10.0</td>\n",
       "      <td>9.0</td>\n",
       "      <td>9.0</td>\n",
       "      <td>5</td>\n",
       "      <td>1</td>\n",
       "    </tr>\n",
       "  </tbody>\n",
       "</table>\n",
       "</div>"
      ],
      "text/plain": [
       "   review_scores_communication  review_scores_location  review_scores_value  \\\n",
       "0                         10.0                    10.0                 10.0   \n",
       "1                         10.0                    10.0                 10.0   \n",
       "2                         10.0                     9.0                  9.0   \n",
       "3                         10.0                     9.0                  9.0   \n",
       "4                         10.0                     9.0                  9.0   \n",
       "5                         10.0                    10.0                  9.0   \n",
       "6                         10.0                     9.0                  9.0   \n",
       "7                         10.0                     9.0                  9.0   \n",
       "8                         10.0                     9.0                  9.0   \n",
       "9                         10.0                     9.0                  9.0   \n",
       "\n",
       "   calculated_host_listings_count  host_label  \n",
       "0                               5           1  \n",
       "1                               1           0  \n",
       "2                               2           1  \n",
       "3                               2           1  \n",
       "4                               1           0  \n",
       "5                               2           1  \n",
       "6                               2           1  \n",
       "7                               4           1  \n",
       "8                               5           1  \n",
       "9                               5           1  "
      ]
     },
     "execution_count": 444,
     "metadata": {},
     "output_type": "execute_result"
    }
   ],
   "source": [
    "airbnb3['host_label'] = airbnb3['calculated_host_listings_count'].apply(lambda x: 1 if x > 1 else 0)\n",
    "print('Amatures:', airbnb3['calculated_host_listings_count'][airbnb.calculated_host_listings_count == 1 ].count(), 'listings')\n",
    "print('Professionals:', airbnb3['calculated_host_listings_count'][airbnb.calculated_host_listings_count != 1 ].count(), 'listings')\n",
    "airbnb3.iloc[:,4:].head(10)"
   ]
  },
  {
   "cell_type": "markdown",
   "metadata": {},
   "source": [
    "The last column shows how the hosts where perfectly labeled and the output above shows that they are fairly distributed.\n",
    "\n",
    "Further, we can have a look at how the data points is distributed. "
   ]
  },
  {
   "cell_type": "code",
   "execution_count": 447,
   "metadata": {},
   "outputs": [
    {
     "data": {
      "text/html": [
       "<div>\n",
       "<style scoped>\n",
       "    .dataframe tbody tr th:only-of-type {\n",
       "        vertical-align: middle;\n",
       "    }\n",
       "\n",
       "    .dataframe tbody tr th {\n",
       "        vertical-align: top;\n",
       "    }\n",
       "\n",
       "    .dataframe thead th {\n",
       "        text-align: right;\n",
       "    }\n",
       "</style>\n",
       "<table border=\"1\" class=\"dataframe\">\n",
       "  <thead>\n",
       "    <tr style=\"text-align: right;\">\n",
       "      <th>host_label</th>\n",
       "      <th>0</th>\n",
       "      <th>1</th>\n",
       "    </tr>\n",
       "  </thead>\n",
       "  <tbody>\n",
       "    <tr>\n",
       "      <th>review_scores_rating</th>\n",
       "      <td>95.811499</td>\n",
       "      <td>93.984277</td>\n",
       "    </tr>\n",
       "    <tr>\n",
       "      <th>review_scores_accuracy</th>\n",
       "      <td>9.807729</td>\n",
       "      <td>9.677149</td>\n",
       "    </tr>\n",
       "    <tr>\n",
       "      <th>review_scores_cleanliness</th>\n",
       "      <td>9.598492</td>\n",
       "      <td>9.529350</td>\n",
       "    </tr>\n",
       "    <tr>\n",
       "      <th>review_scores_checkin</th>\n",
       "      <td>9.854854</td>\n",
       "      <td>9.797694</td>\n",
       "    </tr>\n",
       "    <tr>\n",
       "      <th>review_scores_communication</th>\n",
       "      <td>9.877474</td>\n",
       "      <td>9.795597</td>\n",
       "    </tr>\n",
       "    <tr>\n",
       "      <th>review_scores_location</th>\n",
       "      <td>9.578699</td>\n",
       "      <td>9.538784</td>\n",
       "    </tr>\n",
       "    <tr>\n",
       "      <th>review_scores_value</th>\n",
       "      <td>9.572102</td>\n",
       "      <td>9.378407</td>\n",
       "    </tr>\n",
       "  </tbody>\n",
       "</table>\n",
       "</div>"
      ],
      "text/plain": [
       "host_label                           0          1\n",
       "review_scores_rating         95.811499  93.984277\n",
       "review_scores_accuracy        9.807729   9.677149\n",
       "review_scores_cleanliness     9.598492   9.529350\n",
       "review_scores_checkin         9.854854   9.797694\n",
       "review_scores_communication   9.877474   9.795597\n",
       "review_scores_location        9.578699   9.538784\n",
       "review_scores_value           9.572102   9.378407"
      ]
     },
     "execution_count": 447,
     "metadata": {},
     "output_type": "execute_result"
    }
   ],
   "source": [
    "airbnb4 = airbnb3\n",
    "airbnb5 = airbnb4.drop(['calculated_host_listings_count'], axis = 1)\n",
    "airbnb5 = airbnb5.groupby('host_label').mean()\n",
    "airbnb5 = airbnb5.T\n",
    "airbnb5"
   ]
  },
  {
   "cell_type": "markdown",
   "metadata": {},
   "source": [
    "The table above tells us that average of each column between our chosen dependent variables a fairly equal. In machine learning this can be a bad sign. This could make it difficult for the algorithm to classify between professionals and amateurs. "
   ]
  },
  {
   "cell_type": "code",
   "execution_count": 448,
   "metadata": {},
   "outputs": [
    {
     "data": {
      "image/png": "[encoded data removed]",
      "text/plain": [
       "<Figure size 1080x1080 with 1 Axes>"
      ]
     },
     "metadata": {},
     "output_type": "display_data"
    }
   ],
   "source": [
    "ax = airbnb5.plot.bar()"
   ]
  },
  {
   "cell_type": "markdown",
   "metadata": {},
   "source": [
    "The graph above gives us the same perception about the data points. From a graphic perspective it does not look like there is any significant difference between professionals and amateurs when it comes to score review. This could tell us that a lister does not improve their hosting abilities over time. However, this is only based on 2015 data points and cannot be taken as a solid analysis. In addition, the amateurs score the highest on all the different categories. The hypothesis was that the professionals got a higher score. Further classification needs therefore to be approach opposite of what was intended. \n",
    "\n",
    "Below, we can have a look at how one of the data points, review_scores_rating, is distributed."
   ]
  },
  {
   "cell_type": "code",
   "execution_count": 822,
   "metadata": {},
   "outputs": [],
   "source": [
    "pro_review = []\n",
    "am_review = []\n",
    "for i in range(len(airbnb4)):\n",
    "    if airbnb4.iloc[i,8] == 1:\n",
    "        pro_review.append(airbnb4.iloc[i,0])\n",
    "    else:\n",
    "        am_review.append(airbnb4.iloc[i,0])\n"
   ]
  },
  {
   "cell_type": "code",
   "execution_count": 821,
   "metadata": {},
   "outputs": [
    {
     "data": {
      "image/png": "[encoded data removed]",
      "text/plain": [
       "<Figure size 1080x1080 with 1 Axes>"
      ]
     },
     "metadata": {},
     "output_type": "display_data"
    }
   ],
   "source": [
    "plt.hist(am_review)\n",
    "plt.xlabel('Score', fontsize=25)\n",
    "plt.ylabel('Quanitity', fontsize=25)\n",
    "plt.show()"
   ]
  },
  {
   "cell_type": "code",
   "execution_count": 837,
   "metadata": {},
   "outputs": [
    {
     "data": {
      "image/png": "[encoded data removed]",
      "text/plain": [
       "<Figure size 1080x1080 with 1 Axes>"
      ]
     },
     "metadata": {},
     "output_type": "display_data"
    }
   ],
   "source": [
    "plt.hist(pro_review)\n",
    "plt.xlabel('Score', fontsize=25)\n",
    "plt.ylabel('Quanitity', fontsize=25)\n",
    "plt.show()"
   ]
  },
  {
   "cell_type": "markdown",
   "metadata": {},
   "source": [
    "The two graphs above shows that the data is very skewed towards the high end of the score rating. The output bellow tells us that there is a significant amount that gives a review of 90 and above."
   ]
  },
  {
   "cell_type": "code",
   "execution_count": 831,
   "metadata": {},
   "outputs": [
    {
     "name": "stdout",
     "output_type": "stream",
     "text": [
      "Professials with review score rating of 90 and above: 0.8197064989517819\n",
      "Ammatures with review score rating of 90 and above: 0.7370405278039586\n"
     ]
    }
   ],
   "source": [
    "pro_over_90 = [i for i in pro_review if i >= 90]\n",
    "print(\"Professials with review score rating of 90 and above:\", len(pro_over_90)/len(pro_review))\n",
    "\n",
    "am_over_90 = [i for i in am_review if i >= 90]\n",
    "print(\"Ammatures with review score rating of 90 and above:\",len(pro_over_90)/len(am_review))"
   ]
  },
  {
   "cell_type": "markdown",
   "metadata": {},
   "source": [
    "## Step 2: Classifying the Landlords\n",
    "\n",
    "[[ go back to the top ]](#Table-of-contents)\n",
    "\n",
    "Below will the dataset be split into a training set and test set."
   ]
  },
  {
   "cell_type": "code",
   "execution_count": 450,
   "metadata": {},
   "outputs": [],
   "source": [
    "from sklearn.linear_model import LogisticRegression\n",
    "from sklearn.ensemble import RandomForestClassifier\n",
    "from sklearn.svm import LinearSVC\n",
    "from sklearn.model_selection import train_test_split\n",
    "\n",
    "lr = LogisticRegression() \n",
    "rfc = RandomForestClassifier( n_estimators = 100)\n",
    "svc = LinearSVC(C=1.0)\n",
    "\n",
    "train, test = train_test_split(airbnb4, test_size = 0.2)\n",
    "train_feat = train.iloc[:,0:7]\n",
    "train_target = train['host_label']\n",
    "test_feat = test.iloc[:,0:7]\n",
    "test_target = test['host_label']"
   ]
  },
  {
   "cell_type": "markdown",
   "metadata": {},
   "source": [
    "The first appoarch will be to use logistic regression."
   ]
  },
  {
   "cell_type": "code",
   "execution_count": 451,
   "metadata": {},
   "outputs": [
    {
     "name": "stdout",
     "output_type": "stream",
     "text": [
      "0.5595533498759305\n",
      "0.6029776674937966\n"
     ]
    }
   ],
   "source": [
    "lr.fit(train_feat, train_target)\n",
    "print(lr.score(train_feat, train_target))\n",
    "print(lr.score(test_feat, test_target))"
   ]
  },
  {
   "cell_type": "markdown",
   "metadata": {},
   "source": [
    "As suspected, the classification does not perform well. In binary classification, a classification that labels everything as one or the other will on average get 50% right. A score of 55% and 60% is not good.\n",
    "\n",
    "A confusion matric will give us insight on how the classification is performing."
   ]
  },
  {
   "cell_type": "code",
   "execution_count": 464,
   "metadata": {},
   "outputs": [
    {
     "name": "stdout",
     "output_type": "stream",
     "text": [
      "- Training -\n",
      "[[614 493]\n",
      " [217 288]]\n",
      "-   Test   -\n",
      "[[168  98]\n",
      " [ 62  75]]\n"
     ]
    }
   ],
   "source": [
    "from sklearn.metrics import confusion_matrix\n",
    "print('- Training -')\n",
    "print(confusion_matrix(lr.predict(train_feat), train_target))\n",
    "print('-   Test   -')\n",
    "print(confusion_matrix(lr.predict(test_feat), test_target))"
   ]
  },
  {
   "cell_type": "markdown",
   "metadata": {},
   "source": [
    "The tables above show us that there are a lot of True negative, but also a lot of False positive. \n",
    "\n",
    "Another approach is to use a Support Vector Machine. A support vector machine is a binary classifier and we can use it for multilabel classifications by using classification type called One-Vs-One or One-Vs-All. One-versus-One will be used.\n"
   ]
  },
  {
   "cell_type": "code",
   "execution_count": 597,
   "metadata": {},
   "outputs": [
    {
     "name": "stdout",
     "output_type": "stream",
     "text": [
      "Accuracy 0.4844913151364764\n"
     ]
    }
   ],
   "source": [
    "from sklearn.multiclass import OneVsOneClassifier\n",
    "\n",
    "from sklearn.multiclass import OneVsOneClassifier\n",
    "from sklearn.svm import LinearSVC\n",
    "\n",
    "xx = train_feat.values\n",
    "yy = train_target.values\n",
    "\n",
    "classifier = OneVsRestClassifier(LinearSVC(random_state=42))\n",
    "classifier.fit(xx, yy)\n",
    "print('Accuracy', classifier.score(xx, yy))"
   ]
  },
  {
   "cell_type": "markdown",
   "metadata": {},
   "source": [
    "The classification does not perform well. We can test the model by comparing how well it would do on another multi label classification dataset. The dataset I will use for comparison is the Iris dataset. "
   ]
  },
  {
   "cell_type": "code",
   "execution_count": 598,
   "metadata": {},
   "outputs": [
    {
     "name": "stdout",
     "output_type": "stream",
     "text": [
      "Accuracy Iris Dataset 0.9666666666666667\n"
     ]
    }
   ],
   "source": [
    "from sklearn import datasets\n",
    "iris = datasets.load_iris()\n",
    "xxx, yyy = iris.data, iris.target\n",
    "\n",
    "classifier = OneVsRestClassifier(LinearSVC(random_state=42))\n",
    "classifier.fit(xxx, yyy)\n",
    "print('Accuracy Iris Dataset', classifier.score(xxx, yyy))"
   ]
  },
  {
   "cell_type": "markdown",
   "metadata": {},
   "source": [
    "As show above, the classification works perfectly on the Iris dataset.\n",
    "\n",
    "Going further, Random Forest can be used "
   ]
  },
  {
   "cell_type": "code",
   "execution_count": 620,
   "metadata": {},
   "outputs": [
    {
     "data": {
      "text/plain": [
       "0.7090570719602978"
      ]
     },
     "execution_count": 620,
     "metadata": {},
     "output_type": "execute_result"
    }
   ],
   "source": [
    "from sklearn.ensemble import RandomForestClassifier\n",
    "\n",
    "rfc = RandomForestClassifier(random_state=42, max_leaf_nodes= 500, n_jobs=-1, n_estimators=500)\n",
    "\n",
    "rfc.fit(train_feat, train_target)\n",
    "rfc.score(train_feat, train_target)"
   ]
  },
  {
   "cell_type": "markdown",
   "metadata": {},
   "source": [
    "The score above looks promising compared to the previous classification algorithm. In order to test the accuracy, it should perform well on the test set as well."
   ]
  },
  {
   "cell_type": "code",
   "execution_count": 621,
   "metadata": {},
   "outputs": [
    {
     "data": {
      "text/plain": [
       "0.5384615384615384"
      ]
     },
     "execution_count": 621,
     "metadata": {},
     "output_type": "execute_result"
    }
   ],
   "source": [
    "rfc.score(test_feat, test_target)"
   ]
  },
  {
   "cell_type": "markdown",
   "metadata": {},
   "source": [
    "It does not perform well on the test set. The last approach will be to use Tensorflow. "
   ]
  },
  {
   "cell_type": "markdown",
   "metadata": {},
   "source": [
    "## Step 3: TensorFlow\n",
    "\n",
    "[[ go back to the top ]](#Table-of-contents)\n",
    "\n",
    "A tensor is multidimensional arrays that flows between operations, hence the name, TensorFlow. We will start by creating a function and the classifier. "
   ]
  },
  {
   "cell_type": "code",
   "execution_count": 622,
   "metadata": {},
   "outputs": [
    {
     "name": "stdout",
     "output_type": "stream",
     "text": [
      "WARNING:tensorflow:From /anaconda3/lib/python3.6/site-packages/tensorflow/contrib/learn/python/learn/estimators/dnn.py:378: multi_class_head (from tensorflow.contrib.learn.python.learn.estimators.head) is deprecated and will be removed in a future version.\n",
      "Instructions for updating:\n",
      "Please switch to tf.contrib.estimator.*_head.\n",
      "WARNING:tensorflow:From /anaconda3/lib/python3.6/site-packages/tensorflow/contrib/learn/python/learn/estimators/estimator.py:1180: BaseEstimator.__init__ (from tensorflow.contrib.learn.python.learn.estimators.estimator) is deprecated and will be removed in a future version.\n",
      "Instructions for updating:\n",
      "Please replace uses of any Estimator from tf.contrib.learn with an Estimator from tf.estimator.*\n",
      "WARNING:tensorflow:From /anaconda3/lib/python3.6/site-packages/tensorflow/contrib/learn/python/learn/estimators/estimator.py:428: RunConfig.__init__ (from tensorflow.contrib.learn.python.learn.estimators.run_config) is deprecated and will be removed in a future version.\n",
      "Instructions for updating:\n",
      "When switching to tf.estimator.Estimator, use tf.estimator.RunConfig instead.\n",
      "INFO:tensorflow:Using default config.\n",
      "WARNING:tensorflow:Using temporary folder as model directory: /var/folders/37/r8qj4b_j72j90w069qhpgj_00000gn/T/tmpzjxs4r1v\n",
      "INFO:tensorflow:Using config: {'_task_type': None, '_task_id': 0, '_cluster_spec': <tensorflow.python.training.server_lib.ClusterSpec object at 0x109c8d320>, '_master': '', '_num_ps_replicas': 0, '_num_worker_replicas': 0, '_environment': 'local', '_is_chief': True, '_evaluation_master': '', '_train_distribute': None, '_eval_distribute': None, '_device_fn': None, '_tf_config': gpu_options {\n",
      "  per_process_gpu_memory_fraction: 1.0\n",
      "}\n",
      ", '_tf_random_seed': None, '_save_summary_steps': 100, '_save_checkpoints_secs': 600, '_log_step_count_steps': 100, '_protocol': None, '_session_config': None, '_save_checkpoints_steps': None, '_keep_checkpoint_max': 5, '_keep_checkpoint_every_n_hours': 10000, '_model_dir': '/var/folders/37/r8qj4b_j72j90w069qhpgj_00000gn/T/tmpzjxs4r1v'}\n"
     ]
    }
   ],
   "source": [
    "import tensorflow as tf\n",
    "\n",
    "columns = ['review_scores_rating', 'review_scores_accuracy', 'review_scores_cleanliness', \n",
    "                'review_scores_checkin', 'review_scores_communication', 'review_scores_location', \n",
    "                'review_scores_value']\n",
    "\n",
    "feature_columns = [tf.contrib.layers.real_valued_column(k) for k in columns]\n",
    "\n",
    "def input_fn(df,labels):\n",
    "    feature_cols = {k:tf.constant(df[k].values,shape = [df[k].size,1]) for k in columns}\n",
    "    label = tf.constant(labels.values, shape = [labels.size,1])\n",
    "    return feature_cols,label\n",
    "\n",
    "classifier = tf.contrib.learn.DNNClassifier(feature_columns=feature_columns,hidden_units=[10,20],n_classes = 2)\n",
    "\n"
   ]
  },
  {
   "cell_type": "markdown",
   "metadata": {},
   "source": [
    "We will be using 10000 steps to fit the model"
   ]
  },
  {
   "cell_type": "code",
   "execution_count": 644,
   "metadata": {},
   "outputs": [
    {
     "name": "stdout",
     "output_type": "stream",
     "text": [
      "WARNING:tensorflow:Casting <dtype: 'int64'> labels to bool.\n",
      "WARNING:tensorflow:Casting <dtype: 'int64'> labels to bool.\n",
      "WARNING:tensorflow:Trapezoidal rule is known to produce incorrect PR-AUCs; please switch to \"careful_interpolation\" instead.\n",
      "WARNING:tensorflow:Trapezoidal rule is known to produce incorrect PR-AUCs; please switch to \"careful_interpolation\" instead.\n",
      "INFO:tensorflow:Create CheckpointSaverHook.\n",
      "INFO:tensorflow:Graph was finalized.\n",
      "INFO:tensorflow:Restoring parameters from /var/folders/37/r8qj4b_j72j90w069qhpgj_00000gn/T/tmpzjxs4r1v/model.ckpt-1000\n",
      "INFO:tensorflow:Running local_init_op.\n",
      "INFO:tensorflow:Done running local_init_op.\n",
      "INFO:tensorflow:Saving checkpoints for 1000 into /var/folders/37/r8qj4b_j72j90w069qhpgj_00000gn/T/tmpzjxs4r1v/model.ckpt.\n",
      "INFO:tensorflow:loss = 0.68693143, step = 1001\n",
      "INFO:tensorflow:global_step/sec: 390.794\n",
      "INFO:tensorflow:loss = 0.6863292, step = 1101 (0.255 sec)\n",
      "INFO:tensorflow:global_step/sec: 533.567\n",
      "INFO:tensorflow:loss = 0.68621093, step = 1201 (0.188 sec)\n",
      "INFO:tensorflow:global_step/sec: 606.939\n",
      "INFO:tensorflow:loss = 0.68590415, step = 1301 (0.163 sec)\n",
      "INFO:tensorflow:global_step/sec: 640.201\n",
      "INFO:tensorflow:loss = 0.6856722, step = 1401 (0.156 sec)\n",
      "INFO:tensorflow:global_step/sec: 665.465\n",
      "INFO:tensorflow:loss = 0.6846583, step = 1501 (0.150 sec)\n",
      "INFO:tensorflow:global_step/sec: 656.168\n",
      "INFO:tensorflow:loss = 0.6839367, step = 1601 (0.152 sec)\n",
      "INFO:tensorflow:global_step/sec: 626.338\n",
      "INFO:tensorflow:loss = 0.68362015, step = 1701 (0.161 sec)\n",
      "INFO:tensorflow:global_step/sec: 514.388\n",
      "INFO:tensorflow:loss = 0.6878589, step = 1801 (0.194 sec)\n",
      "INFO:tensorflow:global_step/sec: 549.432\n",
      "INFO:tensorflow:loss = 0.6831623, step = 1901 (0.181 sec)\n",
      "INFO:tensorflow:global_step/sec: 477.58\n",
      "INFO:tensorflow:loss = 0.68277234, step = 2001 (0.210 sec)\n",
      "INFO:tensorflow:global_step/sec: 506.794\n",
      "INFO:tensorflow:loss = 0.6840222, step = 2101 (0.197 sec)\n",
      "INFO:tensorflow:global_step/sec: 547.108\n",
      "INFO:tensorflow:loss = 0.6836213, step = 2201 (0.184 sec)\n",
      "INFO:tensorflow:global_step/sec: 418.698\n",
      "INFO:tensorflow:loss = 0.6820992, step = 2301 (0.238 sec)\n",
      "INFO:tensorflow:global_step/sec: 593.873\n",
      "INFO:tensorflow:loss = 0.68251586, step = 2401 (0.167 sec)\n",
      "INFO:tensorflow:global_step/sec: 640.649\n",
      "INFO:tensorflow:loss = 0.68176776, step = 2501 (0.156 sec)\n",
      "INFO:tensorflow:global_step/sec: 545.093\n",
      "INFO:tensorflow:loss = 0.68159777, step = 2601 (0.186 sec)\n",
      "INFO:tensorflow:global_step/sec: 538.764\n",
      "INFO:tensorflow:loss = 0.68479776, step = 2701 (0.185 sec)\n",
      "INFO:tensorflow:global_step/sec: 550.451\n",
      "INFO:tensorflow:loss = 0.68131727, step = 2801 (0.183 sec)\n",
      "INFO:tensorflow:global_step/sec: 413.401\n",
      "INFO:tensorflow:loss = 0.68138504, step = 2901 (0.239 sec)\n",
      "INFO:tensorflow:global_step/sec: 580.903\n",
      "INFO:tensorflow:loss = 0.6830885, step = 3001 (0.172 sec)\n",
      "INFO:tensorflow:global_step/sec: 622.289\n",
      "INFO:tensorflow:loss = 0.6812699, step = 3101 (0.160 sec)\n",
      "INFO:tensorflow:global_step/sec: 587.851\n",
      "INFO:tensorflow:loss = 0.68097854, step = 3201 (0.170 sec)\n",
      "INFO:tensorflow:global_step/sec: 532.482\n",
      "INFO:tensorflow:loss = 0.68216276, step = 3301 (0.188 sec)\n",
      "INFO:tensorflow:global_step/sec: 331.513\n",
      "INFO:tensorflow:loss = 0.6807792, step = 3401 (0.303 sec)\n",
      "INFO:tensorflow:global_step/sec: 356.43\n",
      "INFO:tensorflow:loss = 0.6807326, step = 3501 (0.281 sec)\n",
      "INFO:tensorflow:global_step/sec: 289.877\n",
      "INFO:tensorflow:loss = 0.6814962, step = 3601 (0.347 sec)\n",
      "INFO:tensorflow:global_step/sec: 365.271\n",
      "INFO:tensorflow:loss = 0.68046355, step = 3701 (0.272 sec)\n",
      "INFO:tensorflow:global_step/sec: 487.237\n",
      "INFO:tensorflow:loss = 0.68098027, step = 3801 (0.204 sec)\n",
      "INFO:tensorflow:global_step/sec: 450.725\n",
      "INFO:tensorflow:loss = 0.68031836, step = 3901 (0.222 sec)\n",
      "INFO:tensorflow:global_step/sec: 243.061\n",
      "INFO:tensorflow:loss = 0.68091714, step = 4001 (0.414 sec)\n",
      "INFO:tensorflow:global_step/sec: 217.461\n",
      "INFO:tensorflow:loss = 0.6798165, step = 4101 (0.461 sec)\n",
      "INFO:tensorflow:global_step/sec: 351.023\n",
      "INFO:tensorflow:loss = 0.68072766, step = 4201 (0.282 sec)\n",
      "INFO:tensorflow:global_step/sec: 378.507\n",
      "INFO:tensorflow:loss = 0.67998046, step = 4301 (0.265 sec)\n",
      "INFO:tensorflow:global_step/sec: 163.728\n",
      "INFO:tensorflow:loss = 0.6800112, step = 4401 (0.616 sec)\n",
      "INFO:tensorflow:global_step/sec: 283.048\n",
      "INFO:tensorflow:loss = 0.6801663, step = 4501 (0.351 sec)\n",
      "INFO:tensorflow:global_step/sec: 308.519\n",
      "INFO:tensorflow:loss = 0.67952573, step = 4601 (0.320 sec)\n",
      "INFO:tensorflow:global_step/sec: 482.292\n",
      "INFO:tensorflow:loss = 0.6795367, step = 4701 (0.209 sec)\n",
      "INFO:tensorflow:global_step/sec: 357.502\n",
      "INFO:tensorflow:loss = 0.68047595, step = 4801 (0.276 sec)\n",
      "INFO:tensorflow:global_step/sec: 466.642\n",
      "INFO:tensorflow:loss = 0.6792444, step = 4901 (0.217 sec)\n",
      "INFO:tensorflow:global_step/sec: 291.539\n",
      "INFO:tensorflow:loss = 0.679539, step = 5001 (0.341 sec)\n",
      "INFO:tensorflow:global_step/sec: 573.559\n",
      "INFO:tensorflow:loss = 0.6793043, step = 5101 (0.174 sec)\n",
      "INFO:tensorflow:global_step/sec: 570.666\n",
      "INFO:tensorflow:loss = 0.6796619, step = 5201 (0.178 sec)\n",
      "INFO:tensorflow:global_step/sec: 523.116\n",
      "INFO:tensorflow:loss = 0.6789665, step = 5301 (0.190 sec)\n",
      "INFO:tensorflow:global_step/sec: 163.597\n",
      "INFO:tensorflow:loss = 0.6795539, step = 5401 (0.610 sec)\n",
      "INFO:tensorflow:global_step/sec: 281.591\n",
      "INFO:tensorflow:loss = 0.67918223, step = 5501 (0.355 sec)\n",
      "INFO:tensorflow:global_step/sec: 517.802\n",
      "INFO:tensorflow:loss = 0.6791126, step = 5601 (0.193 sec)\n",
      "INFO:tensorflow:global_step/sec: 430.037\n",
      "INFO:tensorflow:loss = 0.6791549, step = 5701 (0.233 sec)\n",
      "INFO:tensorflow:global_step/sec: 585.305\n",
      "INFO:tensorflow:loss = 0.67889154, step = 5801 (0.173 sec)\n",
      "INFO:tensorflow:global_step/sec: 568.215\n",
      "INFO:tensorflow:loss = 0.6788599, step = 5901 (0.174 sec)\n",
      "INFO:tensorflow:global_step/sec: 601.452\n",
      "INFO:tensorflow:loss = 0.67872304, step = 6001 (0.165 sec)\n",
      "INFO:tensorflow:global_step/sec: 646.259\n",
      "INFO:tensorflow:loss = 0.67907333, step = 6101 (0.155 sec)\n",
      "INFO:tensorflow:global_step/sec: 413.738\n",
      "INFO:tensorflow:loss = 0.67848253, step = 6201 (0.242 sec)\n",
      "INFO:tensorflow:global_step/sec: 470.457\n",
      "INFO:tensorflow:loss = 0.6783117, step = 6301 (0.213 sec)\n",
      "INFO:tensorflow:global_step/sec: 482.037\n",
      "INFO:tensorflow:loss = 0.6782663, step = 6401 (0.210 sec)\n",
      "INFO:tensorflow:global_step/sec: 430.506\n",
      "INFO:tensorflow:loss = 0.68006444, step = 6501 (0.230 sec)\n",
      "INFO:tensorflow:global_step/sec: 460.276\n",
      "INFO:tensorflow:loss = 0.6784541, step = 6601 (0.218 sec)\n",
      "INFO:tensorflow:global_step/sec: 283.863\n",
      "INFO:tensorflow:loss = 0.67846763, step = 6701 (0.352 sec)\n",
      "INFO:tensorflow:global_step/sec: 456.033\n",
      "INFO:tensorflow:loss = 0.6784488, step = 6801 (0.218 sec)\n",
      "INFO:tensorflow:global_step/sec: 448.676\n",
      "INFO:tensorflow:loss = 0.6783199, step = 6901 (0.225 sec)\n",
      "INFO:tensorflow:global_step/sec: 313.729\n",
      "INFO:tensorflow:loss = 0.67811674, step = 7001 (0.317 sec)\n",
      "INFO:tensorflow:global_step/sec: 413.396\n",
      "INFO:tensorflow:loss = 0.67812073, step = 7101 (0.242 sec)\n",
      "INFO:tensorflow:global_step/sec: 423.001\n",
      "INFO:tensorflow:loss = 0.67799634, step = 7201 (0.236 sec)\n",
      "INFO:tensorflow:global_step/sec: 448.127\n",
      "INFO:tensorflow:loss = 0.6779379, step = 7301 (0.223 sec)\n",
      "INFO:tensorflow:global_step/sec: 511.681\n",
      "INFO:tensorflow:loss = 0.6779117, step = 7401 (0.195 sec)\n",
      "INFO:tensorflow:global_step/sec: 401.461\n",
      "INFO:tensorflow:loss = 0.6785387, step = 7501 (0.251 sec)\n",
      "INFO:tensorflow:global_step/sec: 411.144\n",
      "INFO:tensorflow:loss = 0.6778728, step = 7601 (0.241 sec)\n",
      "INFO:tensorflow:global_step/sec: 438.504\n",
      "INFO:tensorflow:loss = 0.67778105, step = 7701 (0.228 sec)\n",
      "INFO:tensorflow:global_step/sec: 379.456\n",
      "INFO:tensorflow:loss = 0.6777508, step = 7801 (0.263 sec)\n",
      "INFO:tensorflow:global_step/sec: 337.016\n",
      "INFO:tensorflow:loss = 0.6779129, step = 7901 (0.297 sec)\n",
      "INFO:tensorflow:global_step/sec: 484.705\n",
      "INFO:tensorflow:loss = 0.6783972, step = 8001 (0.209 sec)\n",
      "INFO:tensorflow:global_step/sec: 474.075\n",
      "INFO:tensorflow:loss = 0.67777586, step = 8101 (0.209 sec)\n",
      "INFO:tensorflow:global_step/sec: 492.192\n",
      "INFO:tensorflow:loss = 0.67796904, step = 8201 (0.203 sec)\n",
      "INFO:tensorflow:global_step/sec: 364.716\n",
      "INFO:tensorflow:loss = 0.6778564, step = 8301 (0.274 sec)\n",
      "INFO:tensorflow:global_step/sec: 492.622\n",
      "INFO:tensorflow:loss = 0.6777221, step = 8401 (0.204 sec)\n",
      "INFO:tensorflow:global_step/sec: 459.677\n"
     ]
    },
    {
     "name": "stdout",
     "output_type": "stream",
     "text": [
      "INFO:tensorflow:loss = 0.67774534, step = 8501 (0.218 sec)\n",
      "INFO:tensorflow:global_step/sec: 410.603\n",
      "INFO:tensorflow:loss = 0.67761403, step = 8601 (0.245 sec)\n",
      "INFO:tensorflow:global_step/sec: 330.585\n",
      "INFO:tensorflow:loss = 0.67745894, step = 8701 (0.302 sec)\n",
      "INFO:tensorflow:global_step/sec: 554.992\n",
      "INFO:tensorflow:loss = 0.6773962, step = 8801 (0.179 sec)\n",
      "INFO:tensorflow:global_step/sec: 666.432\n",
      "INFO:tensorflow:loss = 0.6777245, step = 8901 (0.150 sec)\n",
      "INFO:tensorflow:global_step/sec: 587.958\n",
      "INFO:tensorflow:loss = 0.677519, step = 9001 (0.173 sec)\n",
      "INFO:tensorflow:global_step/sec: 398.33\n",
      "INFO:tensorflow:loss = 0.6773843, step = 9101 (0.250 sec)\n",
      "INFO:tensorflow:global_step/sec: 375.356\n",
      "INFO:tensorflow:loss = 0.6773813, step = 9201 (0.265 sec)\n",
      "INFO:tensorflow:global_step/sec: 506.291\n",
      "INFO:tensorflow:loss = 0.67722255, step = 9301 (0.197 sec)\n",
      "INFO:tensorflow:global_step/sec: 525.893\n",
      "INFO:tensorflow:loss = 0.67720443, step = 9401 (0.191 sec)\n",
      "INFO:tensorflow:global_step/sec: 517.355\n",
      "INFO:tensorflow:loss = 0.6771699, step = 9501 (0.192 sec)\n",
      "INFO:tensorflow:global_step/sec: 470.327\n",
      "INFO:tensorflow:loss = 0.6773875, step = 9601 (0.213 sec)\n",
      "INFO:tensorflow:global_step/sec: 381.18\n",
      "INFO:tensorflow:loss = 0.6773394, step = 9701 (0.264 sec)\n",
      "INFO:tensorflow:global_step/sec: 426.448\n",
      "INFO:tensorflow:loss = 0.6771075, step = 9801 (0.235 sec)\n",
      "INFO:tensorflow:global_step/sec: 490.011\n",
      "INFO:tensorflow:loss = 0.6772473, step = 9901 (0.208 sec)\n",
      "INFO:tensorflow:global_step/sec: 398.833\n",
      "INFO:tensorflow:loss = 0.6771522, step = 10001 (0.244 sec)\n",
      "INFO:tensorflow:global_step/sec: 353.224\n",
      "INFO:tensorflow:loss = 0.6771182, step = 10101 (0.284 sec)\n",
      "INFO:tensorflow:global_step/sec: 527.315\n",
      "INFO:tensorflow:loss = 0.677594, step = 10201 (0.190 sec)\n",
      "INFO:tensorflow:global_step/sec: 551.195\n",
      "INFO:tensorflow:loss = 0.67731524, step = 10301 (0.181 sec)\n",
      "INFO:tensorflow:global_step/sec: 576.911\n",
      "INFO:tensorflow:loss = 0.676816, step = 10401 (0.173 sec)\n",
      "INFO:tensorflow:global_step/sec: 494.736\n",
      "INFO:tensorflow:loss = 0.6771, step = 10501 (0.203 sec)\n",
      "INFO:tensorflow:global_step/sec: 378.495\n",
      "INFO:tensorflow:loss = 0.6774613, step = 10601 (0.263 sec)\n",
      "INFO:tensorflow:global_step/sec: 507.73\n",
      "INFO:tensorflow:loss = 0.67668885, step = 10701 (0.198 sec)\n",
      "INFO:tensorflow:global_step/sec: 531.048\n",
      "INFO:tensorflow:loss = 0.6766518, step = 10801 (0.193 sec)\n",
      "INFO:tensorflow:global_step/sec: 510.613\n",
      "INFO:tensorflow:loss = 0.67662114, step = 10901 (0.193 sec)\n",
      "INFO:tensorflow:Saving checkpoints for 11000 into /var/folders/37/r8qj4b_j72j90w069qhpgj_00000gn/T/tmpzjxs4r1v/model.ckpt.\n",
      "INFO:tensorflow:Loss for final step: 0.6765856.\n"
     ]
    },
    {
     "data": {
      "text/plain": [
       "DNNClassifier(params={'head': <tensorflow.contrib.learn.python.learn.estimators.head._BinaryLogisticHead object at 0x11d1afb00>, 'hidden_units': [10, 20], 'feature_columns': (_RealValuedColumn(column_name='review_scores_rating', dimension=1, default_value=None, dtype=tf.float32, normalizer=None), _RealValuedColumn(column_name='review_scores_accuracy', dimension=1, default_value=None, dtype=tf.float32, normalizer=None), _RealValuedColumn(column_name='review_scores_cleanliness', dimension=1, default_value=None, dtype=tf.float32, normalizer=None), _RealValuedColumn(column_name='review_scores_checkin', dimension=1, default_value=None, dtype=tf.float32, normalizer=None), _RealValuedColumn(column_name='review_scores_communication', dimension=1, default_value=None, dtype=tf.float32, normalizer=None), _RealValuedColumn(column_name='review_scores_location', dimension=1, default_value=None, dtype=tf.float32, normalizer=None), _RealValuedColumn(column_name='review_scores_value', dimension=1, default_value=None, dtype=tf.float32, normalizer=None)), 'optimizer': None, 'activation_fn': <function relu at 0x11cdefc80>, 'dropout': None, 'gradient_clip_norm': None, 'embedding_lr_multipliers': None, 'input_layer_min_slice_size': None})"
      ]
     },
     "execution_count": 644,
     "metadata": {},
     "output_type": "execute_result"
    }
   ],
   "source": [
    "classifier.fit(input_fn=lambda: input_fn(train_feat, train_target),steps = 10000)"
   ]
  },
  {
   "cell_type": "code",
   "execution_count": 653,
   "metadata": {},
   "outputs": [
    {
     "name": "stdout",
     "output_type": "stream",
     "text": [
      "WARNING:tensorflow:Casting <dtype: 'int64'> labels to bool.\n",
      "WARNING:tensorflow:Casting <dtype: 'int64'> labels to bool.\n",
      "WARNING:tensorflow:Trapezoidal rule is known to produce incorrect PR-AUCs; please switch to \"careful_interpolation\" instead.\n",
      "WARNING:tensorflow:Trapezoidal rule is known to produce incorrect PR-AUCs; please switch to \"careful_interpolation\" instead.\n",
      "INFO:tensorflow:Starting evaluation at 2019-02-20-19:03:06\n",
      "INFO:tensorflow:Graph was finalized.\n",
      "INFO:tensorflow:Restoring parameters from /var/folders/37/r8qj4b_j72j90w069qhpgj_00000gn/T/tmpzjxs4r1v/model.ckpt-11000\n",
      "INFO:tensorflow:Running local_init_op.\n",
      "INFO:tensorflow:Done running local_init_op.\n",
      "INFO:tensorflow:Evaluation [1/1]\n",
      "INFO:tensorflow:Finished evaluation at 2019-02-20-19:03:08\n",
      "INFO:tensorflow:Saving dict for global step 11000: accuracy = 0.5930521, accuracy/baseline_label_mean = 0.4292804, accuracy/threshold_0.500000_mean = 0.5930521, auc = 0.6176175, auc_precision_recall = 0.53750986, global_step = 11000, labels/actual_label_mean = 0.4292804, labels/prediction_mean = 0.48899978, loss = 0.676353, precision/positive_threshold_0.500000_mean = 0.5283019, recall/positive_threshold_0.500000_mean = 0.48554912\n",
      "{'loss': 0.676353, 'accuracy': 0.5930521, 'labels/prediction_mean': 0.48899978, 'labels/actual_label_mean': 0.4292804, 'accuracy/baseline_label_mean': 0.4292804, 'auc': 0.6176175, 'auc_precision_recall': 0.53750986, 'accuracy/threshold_0.500000_mean': 0.5930521, 'precision/positive_threshold_0.500000_mean': 0.5283019, 'recall/positive_threshold_0.500000_mean': 0.48554912, 'global_step': 11000}\n"
     ]
    }
   ],
   "source": [
    "ev = classifier.evaluate(input_fn=lambda: input_fn(test_feat,test_target),steps=1)\n",
    "print(ev)"
   ]
  },
  {
   "cell_type": "markdown",
   "metadata": {},
   "source": [
    "Bellow we can see that the accuracy of the model is 59 % which is not satisfying. As stated earlier, everthing below 70% is not worth going further with."
   ]
  },
  {
   "cell_type": "code",
   "execution_count": 665,
   "metadata": {},
   "outputs": [
    {
     "name": "stdout",
     "output_type": "stream",
     "text": [
      "Accuracy 0.5930521\n"
     ]
    }
   ],
   "source": [
    "print('Accuracy',ev['accuracy'])"
   ]
  },
  {
   "cell_type": "code",
   "execution_count": 707,
   "metadata": {},
   "outputs": [
    {
     "name": "stdout",
     "output_type": "stream",
     "text": [
      "INFO:tensorflow:Graph was finalized.\n",
      "INFO:tensorflow:Restoring parameters from /var/folders/37/r8qj4b_j72j90w069qhpgj_00000gn/T/tmpzjxs4r1v/model.ckpt-11000\n",
      "INFO:tensorflow:Running local_init_op.\n",
      "INFO:tensorflow:Done running local_init_op.\n"
     ]
    }
   ],
   "source": [
    "def input_predict(df):\n",
    "    feature_cols = {k:tf.constant(df[k].values,shape = [df[k].size,1]) for k in columns}\n",
    "    return feature_cols\n",
    "\n",
    "pred = classifier.predict_classes(input_fn=lambda: input_predict(test_feat))"
   ]
  },
  {
   "cell_type": "code",
   "execution_count": 708,
   "metadata": {
    "scrolled": true
   },
   "outputs": [
    {
     "name": "stdout",
     "output_type": "stream",
     "text": [
      "[1, 0, 0, 0, 0, 1, 1, 1, 0, 1, 0, 1, 0, 0, 1, 1, 0, 0, 1, 0, 0, 0, 0, 0, 1, 1, 1, 0, 1, 1, 0, 0, 1, 0, 0, 1, 1, 0, 0, 1, 1, 1, 0, 0, 1, 0, 0, 0, 0, 0, 0, 0, 1, 0, 0, 1, 0, 1, 1, 1, 0, 1, 1, 0, 0, 0, 0, 1, 1, 1, 0, 0, 0, 0, 0, 1, 0, 0, 0, 0, 0, 0, 1, 1, 0, 0, 0, 1, 0, 0, 1, 0, 0, 1, 1, 1, 0, 0, 0, 0, 1, 0, 1, 0, 0, 1, 1, 0, 0, 0, 0, 1, 1, 0, 1, 0, 1, 1, 0, 0, 0, 1, 1, 0, 1, 0, 1, 0, 1, 0, 1, 1, 1, 1, 1, 0, 1, 0, 0, 1, 0, 1, 0, 1, 0, 0, 0, 1, 0, 1, 1, 1, 0, 1, 0, 1, 1, 1, 0, 1, 0, 0, 0, 1, 0, 1, 0, 0, 0, 0, 1, 0, 0, 0, 0, 1, 1, 1, 1, 1, 1, 0, 0, 0, 1, 1, 0, 0, 0, 0, 0, 0, 0, 1, 1, 1, 1, 0, 0, 0, 1, 0, 1, 1, 0, 1, 0, 0, 1, 1, 1, 1, 1, 0, 1, 0, 0, 0, 0, 1, 0, 1, 0, 0, 0, 1, 1, 0, 1, 0, 0, 1, 1, 1, 0, 1, 1, 0, 1, 0, 0, 0, 1, 0, 0, 0, 0, 1, 0, 0, 0, 0, 0, 1, 0, 0, 0, 0, 0, 1, 0, 0, 1, 0, 0, 1, 1, 0, 0, 1, 0, 0, 0, 0, 1, 1, 0, 0, 1, 0, 0, 1, 0, 0, 1, 1, 0, 1, 0, 0, 1, 1, 1, 1, 1, 0, 0, 0, 0, 0, 1, 1, 1, 0, 0, 1, 1, 1, 0, 0, 1, 0, 0, 1, 0, 1, 1, 0, 0, 1, 1, 1, 0, 0, 0, 0, 0, 0, 0, 0, 0, 0, 1, 0, 0, 0, 0, 0, 0, 0, 0, 0, 0, 0, 1, 0, 0, 1, 0, 0, 0, 0, 1, 0, 1, 0, 0, 0, 0, 0, 0, 1, 0, 1, 0, 1, 0, 0, 0, 1, 0, 0, 0, 0, 0, 0, 0, 1, 0, 0, 0, 1, 0, 1, 0, 0, 1, 0, 1, 0, 0, 0, 0, 1, 0, 0, 1, 1, 1, 0, 1, 0, 0]\n"
     ]
    }
   ],
   "source": [
    "print(list(pred))"
   ]
  },
  {
   "cell_type": "markdown",
   "metadata": {},
   "source": [
    "By comparing the predicted above and the original above we can visualize how the model predicted the labels"
   ]
  },
  {
   "cell_type": "code",
   "execution_count": 774,
   "metadata": {},
   "outputs": [
    {
     "name": "stdout",
     "output_type": "stream",
     "text": [
      "[1 0 0 0 0 0 0 1 0 1 0 0 1 0 1 0 1 1 0 1 1 0 1 1 0 1 0 0 1 1 0 1 0 0 1 1 1\n",
      " 0 0 1 0 0 0 0 0 0 1 1 0 0 0 0 0 0 0 0 0 0 1 1 1 1 1 0 1 1 0 0 0 1 0 0 0 0\n",
      " 0 0 0 0 1 1 0 0 0 0 0 0 0 1 1 0 1 0 0 0 1 0 1 0 0 0 1 1 1 0 0 1 0 1 0 1 0\n",
      " 1 0 0 0 1 0 1 0 0 0 0 1 0 1 1 1 1 0 0 1 0 0 1 0 0 0 0 0 1 1 0 0 1 1 0 0 0\n",
      " 0 0 1 1 1 0 0 0 1 1 1 1 1 0 0 1 0 0 1 0 1 0 0 0 1 0 0 0 1 1 0 0 0 0 0 1 0\n",
      " 1 1 0 1 0 1 0 1 0 0 1 0 1 0 0 1 0 1 1 1 0 0 0 1 0 1 0 1 0 1 0 0 0 1 1 0 1\n",
      " 0 0 1 1 0 1 0 0 0 1 0 1 0 1 0 1 1 1 0 0 1 0 0 1 1 1 0 0 0 1 0 0 0 1 0 0 0\n",
      " 1 0 1 1 0 1 0 0 1 0 0 0 0 0 1 1 1 1 1 0 0 0 1 0 1 1 0 1 1 1 1 0 0 0 1 0 0\n",
      " 1 0 0 0 0 1 1 0 1 0 0 0 0 0 0 0 0 1 0 1 1 0 1 0 0 1 0 1 1 1 0 0 0 0 0 1 1\n",
      " 1 0 1 1 1 0 0 1 0 0 0 1 1 0 1 1 1 1 0 0 0 1 0 0 1 0 1 0 1 1 0 0 1 1 0 0 1\n",
      " 0 1 0 0 0 0 1 1 0 1 1 1 0 0 0 1 1 1 1 1 0 1 0 0 1 0 0 1 1 0 1 1 1]\n"
     ]
    }
   ],
   "source": [
    "print(test_target.values)\n"
   ]
  },
  {
   "cell_type": "markdown",
   "metadata": {},
   "source": [
    "By copying the generated output from the predicted value, and storing it in the variable \"p\",  we can build a model that show us how the TensorFlow calculate its accuracy. The value is copyed and pasted, because the \"pred\" is a genearator which does not store its value in memory, they generate the value on the fly. "
   ]
  },
  {
   "cell_type": "code",
   "execution_count": 710,
   "metadata": {},
   "outputs": [],
   "source": [
    "p = [1, 0, 0, 0, 0, 1, 1, 1, 0, 1, 0, 1, 0, 0, 1, 1, 0, 0, 1, 0, 0, 0, 0, 0, 1, 1, 1, 0, 1, 1, 0, 0, 1, 0, 0, 1, 1, \n",
    "     0, 0, 1, 1, 1, 0, 0, 1, 0, 0, 0, 0, 0, 0, 0, 1, 0, 0, 1, 0, 1, 1, 1, 0, 1, 1, 0, 0, 0, 0, 1, 1, 1, 0, 0, 0, 0, \n",
    "     0, 1, 0, 0, 0, 0, 0, 0, 1, 1, 0, 0, 0, 1, 0, 0, 1, 0, 0, 1, 1, 1, 0, 0, 0, 0, 1, 0, 1, 0, 0, 1, 1, 0, 0, 0, 0, \n",
    "     1, 1, 0, 1, 0, 1, 1, 0, 0, 0, 1, 1, 0, 1, 0, 1, 0, 1, 0, 1, 1, 1, 1, 1, 0, 1, 0, 0, 1, 0, 1, 0, 1, 0, 0, 0, 1,\n",
    "     0, 1, 1, 1, 0, 1, 0, 1, 1, 1, 0, 1, 0, 0, 0, 1, 0, 1, 0, 0, 0, 0, 1, 0, 0, 0, 0, 1, 1, 1, 1, 1, 1, 0, 0, 0, 1, \n",
    "     1, 0, 0, 0, 0, 0, 0, 0, 1, 1, 1, 1, 0, 0, 0, 1, 0, 1, 1, 0, 1, 0, 0, 1, 1, 1, 1, 1, 0, 1, 0, 0, 0, 0, 1, 0, 1, \n",
    "     0, 0, 0, 1, 1, 0, 1, 0, 0, 1, 1, 1, 0, 1, 1, 0, 1, 0, 0, 0, 1, 0, 0, 0, 0, 1, 0, 0, 0, 0, 0, 1, 0, 0, 0, 0, 0, \n",
    "     1, 0, 0, 1, 0, 0, 1, 1, 0, 0, 1, 0, 0, 0, 0, 1, 1, 0, 0, 1, 0, 0, 1, 0, 0, 1, 1, 0, 1, 0, 0, 1, 1, 1, 1, 1, 0, \n",
    "     0, 0, 0, 0, 1, 1, 1, 0, 0, 1, 1, 1, 0, 0, 1, 0, 0, 1, 0, 1, 1, 0, 0, 1, 1, 1, 0, 0, 0, 0, 0, 0, 0, 0, 0, 0, 1, \n",
    "     0, 0, 0, 0, 0, 0, 0, 0, 0, 0, 0, 1, 0, 0, 1, 0, 0, 0, 0, 1, 0, 1, 0, 0, 0, 0, 0, 0, 1, 0, 1, 0, 1, 0, 0, 0, 1, \n",
    "     0, 0, 0, 0, 0, 0, 0, 1, 0, 0, 0, 1, 0, 1, 0, 0, 1, 0, 1, 0, 0, 0, 0, 1, 0, 0, 1, 1, 1, 0, 1, 0, 0]"
   ]
  },
  {
   "cell_type": "code",
   "execution_count": 772,
   "metadata": {},
   "outputs": [
    {
     "name": "stdout",
     "output_type": "stream",
     "text": [
      "0.5930521091811415\n"
     ]
    },
    {
     "data": {
      "text/plain": [
       "True"
      ]
     },
     "execution_count": 772,
     "metadata": {},
     "output_type": "execute_result"
    }
   ],
   "source": [
    "tt = test_target.values\n",
    "\n",
    "correct = 0\n",
    "false = 0\n",
    "counter = 0\n",
    "for i in p:\n",
    "    if i == tt[counter]:\n",
    "        correct = correct + 1\n",
    "    else:\n",
    "        false = false + 1    \n",
    "    counter = counter +1\n",
    "    \n",
    "print(correct/(false+correct))\n",
    "                               \n",
    "round(correct/(false+correct), 5) == round(float(ev['accuracy']),5)                               "
   ]
  },
  {
   "cell_type": "markdown",
   "metadata": {},
   "source": [
    "The output above shows us the accuracy and that the accuracy matches the accuracy TensorFlow gives us."
   ]
  },
  {
   "cell_type": "markdown",
   "metadata": {},
   "source": [
    "## Conclusion\n",
    "\n",
    "[[ go back to the top ]](#Table-of-contents)\n",
    "\n",
    "\n",
    "Classification of the different regions in Bristol based on longitude and latitude is something that could easily be done with machine learning. The more data points that is introduced, the more accuracy you will probably get. Geocoding are used by companies to predict where customers are. \n",
    "\n",
    "The dataset was not capable to distinguish between professional and amateur listers. This was clearly stated before the introduction of the classifications and was based on the fact that armatures scored better than the professionals. in addition, the differences were not significant. A bigger dataset would probably have given a different output. However, amateurs might score better because they feel the pressure to please the customer. That being said, this can only be seen as speculations.\n",
    "\n",
    "Due to the fact that these findings where so obvious, K-fold cross validation was not introduced since it would not have given a significant different output. To test whether or not the voting classifier is better than the K-neighbours to predict the neighbourhoods more data is needed since the differences where so small. This report was made to show how you can modify and compare algorithms. \n",
    "\n"
   ]
  },
  {
   "cell_type": "markdown",
   "metadata": {},
   "source": [
    "## References\n",
    "\n",
    "[[ go back to the top ]](#Table-of-contents)\n",
    "\n",
    "\n",
    "Géron, A.,(2017). Hands-on machine learning with scikit-learn and tensorflow.\n",
    "\n",
    "Wolpert, D.H., Macready, W.G. (1997) No Free Lunch Theorme for optimization. \n",
    "\n",
    "Britol Goverment (2019): https://www.bristol.gov.uk/documents/20182/34008/2011%20Census%20-%20Population%20and%20household%20estimates%20for%20small%20areas.pdf/14c400f5-2274-4478-8a07-50a17fa06926"
   ]
  },
  {
   "cell_type": "code",
   "execution_count": null,
   "metadata": {},
   "outputs": [],
   "source": []
  }
 ],
 "metadata": {
  "kernelspec": {
   "display_name": "Python 3",
   "language": "python",
   "name": "python3"
  },
  "language_info": {
   "codemirror_mode": {
    "name": "ipython",
    "version": 3
   },
   "file_extension": ".py",
   "mimetype": "text/x-python",
   "name": "python",
   "nbconvert_exporter": "python",
   "pygments_lexer": "ipython3",
   "version": "3.6.5"
  }
 },
 "nbformat": 4,
 "nbformat_minor": 1
}
